{
 "cells": [
  {
   "cell_type": "markdown",
   "id": "6ac961a7",
   "metadata": {},
   "source": [
    "**Import bibliotek:**"
   ]
  },
  {
   "cell_type": "code",
   "execution_count": 1,
   "id": "37e64004",
   "metadata": {},
   "outputs": [
    {
     "name": "stderr",
     "output_type": "stream",
     "text": [
      "C:\\projects\\Wizualizacja_danych_cz1\\env\\lib\\site-packages\\albumentations\\__init__.py:28: UserWarning: A new version of AlbumentationsX (2.0.10) is available! Your version is 2.0.9. Upgrade using: pip install -U albumentationsx\n",
      "  check_for_updates()\n"
     ]
    }
   ],
   "source": [
    "import numpy as np\n",
    "import tensorflow as tf\n",
    "from sklearn.model_selection import train_test_split\n",
    "from tensorflow.keras import layers\n",
    "from tensorflow.keras.callbacks import ReduceLROnPlateau, EarlyStopping, ModelCheckpoint\n",
    "from tensorflow.keras.layers import Dropout\n",
    "from tensorflow import keras\n",
    "\n",
    "import albumentations as A\n",
    "import cv2"
   ]
  },
  {
   "cell_type": "markdown",
   "id": "a0d21cd3",
   "metadata": {},
   "source": [
    "**Augumentacja:**"
   ]
  },
  {
   "cell_type": "code",
   "execution_count": 2,
   "id": "e5bb7592",
   "metadata": {},
   "outputs": [],
   "source": [
    "albumential_train = A.Compose([\n",
    "    A.PadIfNeeded(min_height=30, min_width=30, border_mode=cv2.BORDER_REFLECT_101),\n",
    "    A.RandomCrop(28, 28),\n",
    "    A.Rotate(limit=8, border_mode=cv2.BORDER_REFLECT_101, p=0.2),\n",
    "    A.RandomBrightnessContrast(0.1, 0.1, p=0.6)\n",
    "])"
   ]
  },
  {
   "cell_type": "markdown",
   "id": "e277617f",
   "metadata": {},
   "source": [
    "**Funkcje związane z przygotowaniem zestawów danych dla TF:**"
   ]
  },
  {
   "cell_type": "code",
   "execution_count": 3,
   "id": "fbd3bdf5",
   "metadata": {},
   "outputs": [],
   "source": [
    "def preprocess(x, y):\n",
    "    x = tf.cast(x, tf.float32) / 255.0\n",
    "    x = tf.expand_dims(x, -1)\n",
    "    return x, y\n",
    "\n",
    "def albu_apply(img):\n",
    "    if img.ndim == 2:\n",
    "        img = np.expand_dims(img, -1)                 \n",
    "    out = albumential_train(image=img)['image']        \n",
    "    return out\n",
    "\n",
    "def albu_map(x, y):\n",
    "    x = tf.numpy_function(lambda z: albu_apply(z), [x], tf.uint8)\n",
    "    x.set_shape([28, 28, 1])                       \n",
    "    x = tf.cast(x, tf.float32) / 255.0             \n",
    "    return x, y"
   ]
  },
  {
   "cell_type": "markdown",
   "id": "8e7aeaad",
   "metadata": {},
   "source": [
    "**Podział danych na zbiór treningowy, walidacyjny oraz testowy:**"
   ]
  },
  {
   "cell_type": "code",
   "execution_count": 4,
   "id": "855e81ea",
   "metadata": {},
   "outputs": [],
   "source": [
    "(x_train_dl, y_train_dl), (x_test_dl, y_test_dl) = tf.keras.datasets.fashion_mnist.load_data()\n",
    "\n",
    "images = np.concatenate([x_train_dl, x_test_dl], axis=0)\n",
    "labels = np.concatenate([y_train_dl, y_test_dl], axis=0)\n",
    "\n",
    "X_train, X_test, y_train, y_test = train_test_split(images, labels, test_size=0.1, random_state=10, stratify=labels)\n",
    "\n",
    "X_train, X_val, y_train, y_val = train_test_split(X_train, y_train, test_size=0.1, random_state=10, stratify=y_train)"
   ]
  },
  {
   "cell_type": "markdown",
   "id": "968d9bd3",
   "metadata": {},
   "source": [
    "**Tworzenie Datasetów TF:**"
   ]
  },
  {
   "cell_type": "code",
   "execution_count": 5,
   "id": "6a79c901",
   "metadata": {},
   "outputs": [],
   "source": [
    "AUTOTUNE = tf.data.AUTOTUNE\n",
    "BATCH = 128\n",
    "\n",
    "train_ds = (tf.data.Dataset.from_tensor_slices((X_train, y_train))\n",
    "            .shuffle(len(X_train), seed=42, reshuffle_each_iteration=True)\n",
    "            .map(albu_map, num_parallel_calls=AUTOTUNE)\n",
    "            .batch(BATCH)\n",
    "            .prefetch(AUTOTUNE))\n",
    "\n",
    "val_ds = (tf.data.Dataset.from_tensor_slices((X_val, y_val))\n",
    "            .map(preprocess, num_parallel_calls=AUTOTUNE)\n",
    "            .batch(BATCH).prefetch(AUTOTUNE))\n",
    "\n",
    "test_ds = (tf.data.Dataset.from_tensor_slices((X_test, y_test))\n",
    "           .map(preprocess, num_parallel_calls=AUTOTUNE)\n",
    "           .batch(BATCH).prefetch(AUTOTUNE))"
   ]
  },
  {
   "cell_type": "markdown",
   "id": "4cc01609",
   "metadata": {},
   "source": [
    "**Tworzenie Sieci CNN oraz kompilacja:**"
   ]
  },
  {
   "cell_type": "code",
   "execution_count": 6,
   "id": "282bbad5",
   "metadata": {},
   "outputs": [
    {
     "name": "stderr",
     "output_type": "stream",
     "text": [
      "C:\\projects\\Wizualizacja_danych_cz1\\env\\lib\\site-packages\\keras\\src\\layers\\convolutional\\base_conv.py:113: UserWarning: Do not pass an `input_shape`/`input_dim` argument to a layer. When using Sequential models, prefer using an `Input(shape)` object as the first layer in the model instead.\n",
      "  super().__init__(activity_regularizer=activity_regularizer, **kwargs)\n"
     ]
    }
   ],
   "source": [
    "f_mnist_model = tf.keras.Sequential([\n",
    "      \n",
    "    layers.Conv2D(32, (3, 3), padding='same', activation='relu', input_shape=(28, 28, 1)),\n",
    "    layers.Conv2D(32, (3, 3), padding='same', activation='relu'),\n",
    "    layers.MaxPooling2D(pool_size=(2, 2)),\n",
    "    layers.BatchNormalization(),\n",
    "    \n",
    "    layers.Conv2D(64, (3, 3), padding='same', activation='relu'),\n",
    "    layers.Conv2D(64, (3, 3), padding='same', activation='relu'),\n",
    "    layers.MaxPooling2D(pool_size=(2, 2)),\n",
    "    layers.BatchNormalization(),\n",
    "    layers.Dropout(0.3),\n",
    "    \n",
    "    \n",
    "    layers.Conv2D(128, (3, 3), padding='same', activation='relu'),\n",
    "    layers.Conv2D(128, (3, 3), padding='same', activation='relu'),\n",
    "    layers.GlobalAveragePooling2D(),\n",
    "    layers.BatchNormalization(),\n",
    "    layers.Dropout(0.3),\n",
    "        \n",
    "    layers.Flatten(),\n",
    "    layers.Dense(512, activation='relu'),\n",
    "    layers.Dropout(0.3),\n",
    "    layers.Dense(10, activation='softmax'), \n",
    "])\n",
    "\n",
    "opt = tf.keras.optimizers.AdamW(learning_rate=0.002, weight_decay=1e-4)\n",
    "\n",
    "f_mnist_model.compile(\n",
    "    loss='sparse_categorical_crossentropy',\n",
    "    optimizer=opt,\n",
    "    metrics=['accuracy'])"
   ]
  },
  {
   "cell_type": "markdown",
   "id": "0896dac0",
   "metadata": {},
   "source": [
    "**Deklarowanie callbacków:**"
   ]
  },
  {
   "cell_type": "code",
   "execution_count": 7,
   "id": "2ba8e99d",
   "metadata": {
    "scrolled": true
   },
   "outputs": [
    {
     "name": "stdout",
     "output_type": "stream",
     "text": [
      "Epoch 1/120\n",
      "\u001b[1m443/443\u001b[0m \u001b[32m━━━━━━━━━━━━━━━━━━━━\u001b[0m\u001b[37m\u001b[0m \u001b[1m0s\u001b[0m 124ms/step - accuracy: 0.7261 - loss: 0.7413\n",
      "Epoch 1: val_accuracy improved from -inf to 0.58730, saving model to best_model.keras\n",
      "\u001b[1m443/443\u001b[0m \u001b[32m━━━━━━━━━━━━━━━━━━━━\u001b[0m\u001b[37m\u001b[0m \u001b[1m67s\u001b[0m 130ms/step - accuracy: 0.7263 - loss: 0.7409 - val_accuracy: 0.5873 - val_loss: 1.0372 - learning_rate: 0.0020\n",
      "Epoch 2/120\n",
      "\u001b[1m443/443\u001b[0m \u001b[32m━━━━━━━━━━━━━━━━━━━━\u001b[0m\u001b[37m\u001b[0m \u001b[1m0s\u001b[0m 124ms/step - accuracy: 0.8633 - loss: 0.3779\n",
      "Epoch 2: val_accuracy improved from 0.58730 to 0.87270, saving model to best_model.keras\n",
      "\u001b[1m443/443\u001b[0m \u001b[32m━━━━━━━━━━━━━━━━━━━━\u001b[0m\u001b[37m\u001b[0m \u001b[1m57s\u001b[0m 129ms/step - accuracy: 0.8633 - loss: 0.3779 - val_accuracy: 0.8727 - val_loss: 0.3355 - learning_rate: 0.0020\n",
      "Epoch 3/120\n",
      "\u001b[1m443/443\u001b[0m \u001b[32m━━━━━━━━━━━━━━━━━━━━\u001b[0m\u001b[37m\u001b[0m \u001b[1m0s\u001b[0m 128ms/step - accuracy: 0.8831 - loss: 0.3183\n",
      "Epoch 3: val_accuracy improved from 0.87270 to 0.89016, saving model to best_model.keras\n",
      "\u001b[1m443/443\u001b[0m \u001b[32m━━━━━━━━━━━━━━━━━━━━\u001b[0m\u001b[37m\u001b[0m \u001b[1m59s\u001b[0m 133ms/step - accuracy: 0.8831 - loss: 0.3183 - val_accuracy: 0.8902 - val_loss: 0.2935 - learning_rate: 0.0020\n",
      "Epoch 4/120\n",
      "\u001b[1m443/443\u001b[0m \u001b[32m━━━━━━━━━━━━━━━━━━━━\u001b[0m\u001b[37m\u001b[0m \u001b[1m0s\u001b[0m 125ms/step - accuracy: 0.8913 - loss: 0.3017\n",
      "Epoch 4: val_accuracy improved from 0.89016 to 0.89810, saving model to best_model.keras\n",
      "\u001b[1m443/443\u001b[0m \u001b[32m━━━━━━━━━━━━━━━━━━━━\u001b[0m\u001b[37m\u001b[0m \u001b[1m58s\u001b[0m 130ms/step - accuracy: 0.8913 - loss: 0.3017 - val_accuracy: 0.8981 - val_loss: 0.2783 - learning_rate: 0.0020\n",
      "Epoch 5/120\n",
      "\u001b[1m443/443\u001b[0m \u001b[32m━━━━━━━━━━━━━━━━━━━━\u001b[0m\u001b[37m\u001b[0m \u001b[1m0s\u001b[0m 124ms/step - accuracy: 0.8983 - loss: 0.2802\n",
      "Epoch 5: val_accuracy improved from 0.89810 to 0.90333, saving model to best_model.keras\n",
      "\u001b[1m443/443\u001b[0m \u001b[32m━━━━━━━━━━━━━━━━━━━━\u001b[0m\u001b[37m\u001b[0m \u001b[1m58s\u001b[0m 129ms/step - accuracy: 0.8983 - loss: 0.2802 - val_accuracy: 0.9033 - val_loss: 0.2398 - learning_rate: 0.0020\n",
      "Epoch 6/120\n",
      "\u001b[1m443/443\u001b[0m \u001b[32m━━━━━━━━━━━━━━━━━━━━\u001b[0m\u001b[37m\u001b[0m \u001b[1m0s\u001b[0m 123ms/step - accuracy: 0.9014 - loss: 0.2669\n",
      "Epoch 6: val_accuracy improved from 0.90333 to 0.90571, saving model to best_model.keras\n",
      "\u001b[1m443/443\u001b[0m \u001b[32m━━━━━━━━━━━━━━━━━━━━\u001b[0m\u001b[37m\u001b[0m \u001b[1m82s\u001b[0m 128ms/step - accuracy: 0.9014 - loss: 0.2669 - val_accuracy: 0.9057 - val_loss: 0.2541 - learning_rate: 0.0020\n",
      "Epoch 7/120\n",
      "\u001b[1m443/443\u001b[0m \u001b[32m━━━━━━━━━━━━━━━━━━━━\u001b[0m\u001b[37m\u001b[0m \u001b[1m0s\u001b[0m 141ms/step - accuracy: 0.9074 - loss: 0.2549\n",
      "Epoch 7: val_accuracy improved from 0.90571 to 0.91063, saving model to best_model.keras\n",
      "\u001b[1m443/443\u001b[0m \u001b[32m━━━━━━━━━━━━━━━━━━━━\u001b[0m\u001b[37m\u001b[0m \u001b[1m65s\u001b[0m 146ms/step - accuracy: 0.9074 - loss: 0.2549 - val_accuracy: 0.9106 - val_loss: 0.2297 - learning_rate: 0.0020\n",
      "Epoch 8/120\n",
      "\u001b[1m443/443\u001b[0m \u001b[32m━━━━━━━━━━━━━━━━━━━━\u001b[0m\u001b[37m\u001b[0m \u001b[1m0s\u001b[0m 138ms/step - accuracy: 0.9111 - loss: 0.2448\n",
      "Epoch 8: val_accuracy did not improve from 0.91063\n",
      "\u001b[1m443/443\u001b[0m \u001b[32m━━━━━━━━━━━━━━━━━━━━\u001b[0m\u001b[37m\u001b[0m \u001b[1m64s\u001b[0m 143ms/step - accuracy: 0.9111 - loss: 0.2448 - val_accuracy: 0.9032 - val_loss: 0.2672 - learning_rate: 0.0020\n",
      "Epoch 9/120\n",
      "\u001b[1m443/443\u001b[0m \u001b[32m━━━━━━━━━━━━━━━━━━━━\u001b[0m\u001b[37m\u001b[0m \u001b[1m0s\u001b[0m 140ms/step - accuracy: 0.9129 - loss: 0.2405\n",
      "Epoch 9: val_accuracy did not improve from 0.91063\n",
      "\u001b[1m443/443\u001b[0m \u001b[32m━━━━━━━━━━━━━━━━━━━━\u001b[0m\u001b[37m\u001b[0m \u001b[1m65s\u001b[0m 145ms/step - accuracy: 0.9129 - loss: 0.2405 - val_accuracy: 0.9095 - val_loss: 0.2332 - learning_rate: 0.0020\n",
      "Epoch 10/120\n",
      "\u001b[1m443/443\u001b[0m \u001b[32m━━━━━━━━━━━━━━━━━━━━\u001b[0m\u001b[37m\u001b[0m \u001b[1m0s\u001b[0m 141ms/step - accuracy: 0.9165 - loss: 0.2289\n",
      "Epoch 10: ReduceLROnPlateau reducing learning rate to 0.0010000000474974513.\n",
      "\n",
      "Epoch 10: val_accuracy did not improve from 0.91063\n",
      "\u001b[1m443/443\u001b[0m \u001b[32m━━━━━━━━━━━━━━━━━━━━\u001b[0m\u001b[37m\u001b[0m \u001b[1m65s\u001b[0m 146ms/step - accuracy: 0.9165 - loss: 0.2289 - val_accuracy: 0.9100 - val_loss: 0.2318 - learning_rate: 0.0020\n",
      "Epoch 11/120\n",
      "\u001b[1m443/443\u001b[0m \u001b[32m━━━━━━━━━━━━━━━━━━━━\u001b[0m\u001b[37m\u001b[0m \u001b[1m0s\u001b[0m 143ms/step - accuracy: 0.9242 - loss: 0.2079\n",
      "Epoch 11: val_accuracy improved from 0.91063 to 0.92730, saving model to best_model.keras\n",
      "\u001b[1m443/443\u001b[0m \u001b[32m━━━━━━━━━━━━━━━━━━━━\u001b[0m\u001b[37m\u001b[0m \u001b[1m67s\u001b[0m 150ms/step - accuracy: 0.9243 - loss: 0.2079 - val_accuracy: 0.9273 - val_loss: 0.1958 - learning_rate: 0.0010\n",
      "Epoch 12/120\n",
      "\u001b[1m443/443\u001b[0m \u001b[32m━━━━━━━━━━━━━━━━━━━━\u001b[0m\u001b[37m\u001b[0m \u001b[1m0s\u001b[0m 135ms/step - accuracy: 0.9262 - loss: 0.2007\n",
      "Epoch 12: val_accuracy did not improve from 0.92730\n",
      "\u001b[1m443/443\u001b[0m \u001b[32m━━━━━━━━━━━━━━━━━━━━\u001b[0m\u001b[37m\u001b[0m \u001b[1m62s\u001b[0m 139ms/step - accuracy: 0.9262 - loss: 0.2006 - val_accuracy: 0.9263 - val_loss: 0.1837 - learning_rate: 0.0010\n",
      "Epoch 13/120\n",
      "\u001b[1m443/443\u001b[0m \u001b[32m━━━━━━━━━━━━━━━━━━━━\u001b[0m\u001b[37m\u001b[0m \u001b[1m0s\u001b[0m 125ms/step - accuracy: 0.9309 - loss: 0.1881\n",
      "Epoch 13: val_accuracy did not improve from 0.92730\n",
      "\u001b[1m443/443\u001b[0m \u001b[32m━━━━━━━━━━━━━━━━━━━━\u001b[0m\u001b[37m\u001b[0m \u001b[1m78s\u001b[0m 130ms/step - accuracy: 0.9309 - loss: 0.1881 - val_accuracy: 0.9270 - val_loss: 0.1984 - learning_rate: 0.0010\n",
      "Epoch 14/120\n",
      "\u001b[1m443/443\u001b[0m \u001b[32m━━━━━━━━━━━━━━━━━━━━\u001b[0m\u001b[37m\u001b[0m \u001b[1m0s\u001b[0m 126ms/step - accuracy: 0.9326 - loss: 0.1814\n",
      "Epoch 14: val_accuracy improved from 0.92730 to 0.93444, saving model to best_model.keras\n",
      "\u001b[1m443/443\u001b[0m \u001b[32m━━━━━━━━━━━━━━━━━━━━\u001b[0m\u001b[37m\u001b[0m \u001b[1m59s\u001b[0m 132ms/step - accuracy: 0.9326 - loss: 0.1814 - val_accuracy: 0.9344 - val_loss: 0.1706 - learning_rate: 0.0010\n",
      "Epoch 15/120\n",
      "\u001b[1m443/443\u001b[0m \u001b[32m━━━━━━━━━━━━━━━━━━━━\u001b[0m\u001b[37m\u001b[0m \u001b[1m0s\u001b[0m 126ms/step - accuracy: 0.9341 - loss: 0.1812\n",
      "Epoch 15: val_accuracy improved from 0.93444 to 0.93556, saving model to best_model.keras\n",
      "\u001b[1m443/443\u001b[0m \u001b[32m━━━━━━━━━━━━━━━━━━━━\u001b[0m\u001b[37m\u001b[0m \u001b[1m58s\u001b[0m 131ms/step - accuracy: 0.9341 - loss: 0.1812 - val_accuracy: 0.9356 - val_loss: 0.1764 - learning_rate: 0.0010\n",
      "Epoch 16/120\n",
      "\u001b[1m443/443\u001b[0m \u001b[32m━━━━━━━━━━━━━━━━━━━━\u001b[0m\u001b[37m\u001b[0m \u001b[1m0s\u001b[0m 124ms/step - accuracy: 0.9353 - loss: 0.1760\n",
      "Epoch 16: val_accuracy did not improve from 0.93556\n",
      "\u001b[1m443/443\u001b[0m \u001b[32m━━━━━━━━━━━━━━━━━━━━\u001b[0m\u001b[37m\u001b[0m \u001b[1m57s\u001b[0m 128ms/step - accuracy: 0.9353 - loss: 0.1760 - val_accuracy: 0.9343 - val_loss: 0.1708 - learning_rate: 0.0010\n",
      "Epoch 17/120\n",
      "\u001b[1m443/443\u001b[0m \u001b[32m━━━━━━━━━━━━━━━━━━━━\u001b[0m\u001b[37m\u001b[0m \u001b[1m0s\u001b[0m 125ms/step - accuracy: 0.9361 - loss: 0.1770\n",
      "Epoch 17: ReduceLROnPlateau reducing learning rate to 0.0005000000237487257.\n",
      "\n",
      "Epoch 17: val_accuracy did not improve from 0.93556\n",
      "\u001b[1m443/443\u001b[0m \u001b[32m━━━━━━━━━━━━━━━━━━━━\u001b[0m\u001b[37m\u001b[0m \u001b[1m58s\u001b[0m 130ms/step - accuracy: 0.9361 - loss: 0.1770 - val_accuracy: 0.9305 - val_loss: 0.1924 - learning_rate: 0.0010\n",
      "Epoch 18/120\n",
      "\u001b[1m443/443\u001b[0m \u001b[32m━━━━━━━━━━━━━━━━━━━━\u001b[0m\u001b[37m\u001b[0m \u001b[1m0s\u001b[0m 126ms/step - accuracy: 0.9412 - loss: 0.1615\n",
      "Epoch 18: val_accuracy improved from 0.93556 to 0.93873, saving model to best_model.keras\n",
      "\u001b[1m443/443\u001b[0m \u001b[32m━━━━━━━━━━━━━━━━━━━━\u001b[0m\u001b[37m\u001b[0m \u001b[1m58s\u001b[0m 131ms/step - accuracy: 0.9412 - loss: 0.1615 - val_accuracy: 0.9387 - val_loss: 0.1647 - learning_rate: 5.0000e-04\n",
      "Epoch 19/120\n",
      "\u001b[1m443/443\u001b[0m \u001b[32m━━━━━━━━━━━━━━━━━━━━\u001b[0m\u001b[37m\u001b[0m \u001b[1m0s\u001b[0m 126ms/step - accuracy: 0.9407 - loss: 0.1571\n",
      "Epoch 19: val_accuracy did not improve from 0.93873\n",
      "\u001b[1m443/443\u001b[0m \u001b[32m━━━━━━━━━━━━━━━━━━━━\u001b[0m\u001b[37m\u001b[0m \u001b[1m58s\u001b[0m 130ms/step - accuracy: 0.9407 - loss: 0.1571 - val_accuracy: 0.9310 - val_loss: 0.1857 - learning_rate: 5.0000e-04\n",
      "Epoch 20/120\n",
      "\u001b[1m443/443\u001b[0m \u001b[32m━━━━━━━━━━━━━━━━━━━━\u001b[0m\u001b[37m\u001b[0m \u001b[1m0s\u001b[0m 125ms/step - accuracy: 0.9436 - loss: 0.1553\n",
      "Epoch 20: val_accuracy improved from 0.93873 to 0.93905, saving model to best_model.keras\n",
      "\u001b[1m443/443\u001b[0m \u001b[32m━━━━━━━━━━━━━━━━━━━━\u001b[0m\u001b[37m\u001b[0m \u001b[1m58s\u001b[0m 130ms/step - accuracy: 0.9436 - loss: 0.1553 - val_accuracy: 0.9390 - val_loss: 0.1668 - learning_rate: 5.0000e-04\n",
      "Epoch 21/120\n",
      "\u001b[1m443/443\u001b[0m \u001b[32m━━━━━━━━━━━━━━━━━━━━\u001b[0m\u001b[37m\u001b[0m \u001b[1m0s\u001b[0m 123ms/step - accuracy: 0.9444 - loss: 0.1521\n",
      "Epoch 21: ReduceLROnPlateau reducing learning rate to 0.0002500000118743628.\n",
      "\n",
      "Epoch 21: val_accuracy did not improve from 0.93905\n",
      "\u001b[1m443/443\u001b[0m \u001b[32m━━━━━━━━━━━━━━━━━━━━\u001b[0m\u001b[37m\u001b[0m \u001b[1m57s\u001b[0m 128ms/step - accuracy: 0.9444 - loss: 0.1521 - val_accuracy: 0.9373 - val_loss: 0.1745 - learning_rate: 5.0000e-04\n",
      "Epoch 22/120\n"
     ]
    },
    {
     "name": "stdout",
     "output_type": "stream",
     "text": [
      "\u001b[1m443/443\u001b[0m \u001b[32m━━━━━━━━━━━━━━━━━━━━\u001b[0m\u001b[37m\u001b[0m \u001b[1m0s\u001b[0m 111ms/step - accuracy: 0.9468 - loss: 0.1434\n",
      "Epoch 22: val_accuracy improved from 0.93905 to 0.93968, saving model to best_model.keras\n",
      "\u001b[1m443/443\u001b[0m \u001b[32m━━━━━━━━━━━━━━━━━━━━\u001b[0m\u001b[37m\u001b[0m \u001b[1m51s\u001b[0m 113ms/step - accuracy: 0.9468 - loss: 0.1434 - val_accuracy: 0.9397 - val_loss: 0.1604 - learning_rate: 2.5000e-04\n",
      "Epoch 23/120\n",
      "\u001b[1m443/443\u001b[0m \u001b[32m━━━━━━━━━━━━━━━━━━━━\u001b[0m\u001b[37m\u001b[0m \u001b[1m0s\u001b[0m 92ms/step - accuracy: 0.9487 - loss: 0.1388\n",
      "Epoch 23: val_accuracy did not improve from 0.93968\n",
      "\u001b[1m443/443\u001b[0m \u001b[32m━━━━━━━━━━━━━━━━━━━━\u001b[0m\u001b[37m\u001b[0m \u001b[1m43s\u001b[0m 97ms/step - accuracy: 0.9487 - loss: 0.1388 - val_accuracy: 0.9392 - val_loss: 0.1637 - learning_rate: 2.5000e-04\n",
      "Epoch 24/120\n",
      "\u001b[1m443/443\u001b[0m \u001b[32m━━━━━━━━━━━━━━━━━━━━\u001b[0m\u001b[37m\u001b[0m \u001b[1m0s\u001b[0m 126ms/step - accuracy: 0.9463 - loss: 0.1427\n",
      "Epoch 24: val_accuracy improved from 0.93968 to 0.94206, saving model to best_model.keras\n",
      "\u001b[1m443/443\u001b[0m \u001b[32m━━━━━━━━━━━━━━━━━━━━\u001b[0m\u001b[37m\u001b[0m \u001b[1m59s\u001b[0m 131ms/step - accuracy: 0.9463 - loss: 0.1427 - val_accuracy: 0.9421 - val_loss: 0.1563 - learning_rate: 2.5000e-04\n",
      "Epoch 25/120\n",
      "\u001b[1m443/443\u001b[0m \u001b[32m━━━━━━━━━━━━━━━━━━━━\u001b[0m\u001b[37m\u001b[0m \u001b[1m0s\u001b[0m 124ms/step - accuracy: 0.9503 - loss: 0.1358\n",
      "Epoch 25: val_accuracy did not improve from 0.94206\n",
      "\u001b[1m443/443\u001b[0m \u001b[32m━━━━━━━━━━━━━━━━━━━━\u001b[0m\u001b[37m\u001b[0m \u001b[1m58s\u001b[0m 129ms/step - accuracy: 0.9503 - loss: 0.1358 - val_accuracy: 0.9414 - val_loss: 0.1578 - learning_rate: 2.5000e-04\n",
      "Epoch 26/120\n",
      "\u001b[1m443/443\u001b[0m \u001b[32m━━━━━━━━━━━━━━━━━━━━\u001b[0m\u001b[37m\u001b[0m \u001b[1m0s\u001b[0m 124ms/step - accuracy: 0.9499 - loss: 0.1370\n",
      "Epoch 26: val_accuracy did not improve from 0.94206\n",
      "\u001b[1m443/443\u001b[0m \u001b[32m━━━━━━━━━━━━━━━━━━━━\u001b[0m\u001b[37m\u001b[0m \u001b[1m57s\u001b[0m 128ms/step - accuracy: 0.9499 - loss: 0.1370 - val_accuracy: 0.9402 - val_loss: 0.1634 - learning_rate: 2.5000e-04\n",
      "Epoch 27/120\n",
      "\u001b[1m443/443\u001b[0m \u001b[32m━━━━━━━━━━━━━━━━━━━━\u001b[0m\u001b[37m\u001b[0m \u001b[1m0s\u001b[0m 124ms/step - accuracy: 0.9490 - loss: 0.1401\n",
      "Epoch 27: ReduceLROnPlateau reducing learning rate to 0.0001250000059371814.\n",
      "\n",
      "Epoch 27: val_accuracy did not improve from 0.94206\n",
      "\u001b[1m443/443\u001b[0m \u001b[32m━━━━━━━━━━━━━━━━━━━━\u001b[0m\u001b[37m\u001b[0m \u001b[1m57s\u001b[0m 129ms/step - accuracy: 0.9490 - loss: 0.1401 - val_accuracy: 0.9410 - val_loss: 0.1606 - learning_rate: 2.5000e-04\n",
      "Epoch 28/120\n",
      "\u001b[1m443/443\u001b[0m \u001b[32m━━━━━━━━━━━━━━━━━━━━\u001b[0m\u001b[37m\u001b[0m \u001b[1m0s\u001b[0m 124ms/step - accuracy: 0.9493 - loss: 0.1380\n",
      "Epoch 28: val_accuracy improved from 0.94206 to 0.94222, saving model to best_model.keras\n",
      "\u001b[1m443/443\u001b[0m \u001b[32m━━━━━━━━━━━━━━━━━━━━\u001b[0m\u001b[37m\u001b[0m \u001b[1m82s\u001b[0m 129ms/step - accuracy: 0.9493 - loss: 0.1379 - val_accuracy: 0.9422 - val_loss: 0.1599 - learning_rate: 1.2500e-04\n",
      "Epoch 29/120\n",
      "\u001b[1m443/443\u001b[0m \u001b[32m━━━━━━━━━━━━━━━━━━━━\u001b[0m\u001b[37m\u001b[0m \u001b[1m0s\u001b[0m 127ms/step - accuracy: 0.9529 - loss: 0.1293\n",
      "Epoch 29: val_accuracy did not improve from 0.94222\n",
      "\u001b[1m443/443\u001b[0m \u001b[32m━━━━━━━━━━━━━━━━━━━━\u001b[0m\u001b[37m\u001b[0m \u001b[1m59s\u001b[0m 132ms/step - accuracy: 0.9529 - loss: 0.1293 - val_accuracy: 0.9421 - val_loss: 0.1581 - learning_rate: 1.2500e-04\n",
      "Epoch 30/120\n",
      "\u001b[1m443/443\u001b[0m \u001b[32m━━━━━━━━━━━━━━━━━━━━\u001b[0m\u001b[37m\u001b[0m \u001b[1m0s\u001b[0m 127ms/step - accuracy: 0.9538 - loss: 0.1278\n",
      "Epoch 30: val_accuracy improved from 0.94222 to 0.94333, saving model to best_model.keras\n",
      "\u001b[1m443/443\u001b[0m \u001b[32m━━━━━━━━━━━━━━━━━━━━\u001b[0m\u001b[37m\u001b[0m \u001b[1m59s\u001b[0m 132ms/step - accuracy: 0.9538 - loss: 0.1278 - val_accuracy: 0.9433 - val_loss: 0.1541 - learning_rate: 1.2500e-04\n",
      "Epoch 31/120\n",
      "\u001b[1m443/443\u001b[0m \u001b[32m━━━━━━━━━━━━━━━━━━━━\u001b[0m\u001b[37m\u001b[0m \u001b[1m0s\u001b[0m 126ms/step - accuracy: 0.9519 - loss: 0.1269\n",
      "Epoch 31: val_accuracy did not improve from 0.94333\n",
      "\u001b[1m443/443\u001b[0m \u001b[32m━━━━━━━━━━━━━━━━━━━━\u001b[0m\u001b[37m\u001b[0m \u001b[1m58s\u001b[0m 130ms/step - accuracy: 0.9519 - loss: 0.1269 - val_accuracy: 0.9410 - val_loss: 0.1621 - learning_rate: 1.2500e-04\n",
      "Epoch 32/120\n",
      "\u001b[1m443/443\u001b[0m \u001b[32m━━━━━━━━━━━━━━━━━━━━\u001b[0m\u001b[37m\u001b[0m \u001b[1m0s\u001b[0m 128ms/step - accuracy: 0.9534 - loss: 0.1281\n",
      "Epoch 32: val_accuracy did not improve from 0.94333\n",
      "\u001b[1m443/443\u001b[0m \u001b[32m━━━━━━━━━━━━━━━━━━━━\u001b[0m\u001b[37m\u001b[0m \u001b[1m59s\u001b[0m 133ms/step - accuracy: 0.9534 - loss: 0.1281 - val_accuracy: 0.9422 - val_loss: 0.1583 - learning_rate: 1.2500e-04\n",
      "Epoch 33/120\n",
      "\u001b[1m443/443\u001b[0m \u001b[32m━━━━━━━━━━━━━━━━━━━━\u001b[0m\u001b[37m\u001b[0m \u001b[1m0s\u001b[0m 124ms/step - accuracy: 0.9546 - loss: 0.1236\n",
      "Epoch 33: ReduceLROnPlateau reducing learning rate to 6.25000029685907e-05.\n",
      "\n",
      "Epoch 33: val_accuracy did not improve from 0.94333\n",
      "\u001b[1m443/443\u001b[0m \u001b[32m━━━━━━━━━━━━━━━━━━━━\u001b[0m\u001b[37m\u001b[0m \u001b[1m57s\u001b[0m 128ms/step - accuracy: 0.9546 - loss: 0.1236 - val_accuracy: 0.9422 - val_loss: 0.1553 - learning_rate: 1.2500e-04\n",
      "Epoch 34/120\n",
      "\u001b[1m443/443\u001b[0m \u001b[32m━━━━━━━━━━━━━━━━━━━━\u001b[0m\u001b[37m\u001b[0m \u001b[1m0s\u001b[0m 126ms/step - accuracy: 0.9536 - loss: 0.1272\n",
      "Epoch 34: val_accuracy did not improve from 0.94333\n",
      "\u001b[1m443/443\u001b[0m \u001b[32m━━━━━━━━━━━━━━━━━━━━\u001b[0m\u001b[37m\u001b[0m \u001b[1m58s\u001b[0m 131ms/step - accuracy: 0.9536 - loss: 0.1272 - val_accuracy: 0.9433 - val_loss: 0.1577 - learning_rate: 6.2500e-05\n",
      "Epoch 35/120\n",
      "\u001b[1m443/443\u001b[0m \u001b[32m━━━━━━━━━━━━━━━━━━━━\u001b[0m\u001b[37m\u001b[0m \u001b[1m0s\u001b[0m 124ms/step - accuracy: 0.9538 - loss: 0.1243\n",
      "Epoch 35: val_accuracy did not improve from 0.94333\n",
      "\u001b[1m443/443\u001b[0m \u001b[32m━━━━━━━━━━━━━━━━━━━━\u001b[0m\u001b[37m\u001b[0m \u001b[1m57s\u001b[0m 128ms/step - accuracy: 0.9538 - loss: 0.1243 - val_accuracy: 0.9432 - val_loss: 0.1575 - learning_rate: 6.2500e-05\n",
      "Epoch 36/120\n",
      "\u001b[1m443/443\u001b[0m \u001b[32m━━━━━━━━━━━━━━━━━━━━\u001b[0m\u001b[37m\u001b[0m \u001b[1m0s\u001b[0m 124ms/step - accuracy: 0.9535 - loss: 0.1267\n",
      "Epoch 36: ReduceLROnPlateau reducing learning rate to 3.125000148429535e-05.\n",
      "\n",
      "Epoch 36: val_accuracy did not improve from 0.94333\n",
      "\u001b[1m443/443\u001b[0m \u001b[32m━━━━━━━━━━━━━━━━━━━━\u001b[0m\u001b[37m\u001b[0m \u001b[1m57s\u001b[0m 128ms/step - accuracy: 0.9535 - loss: 0.1267 - val_accuracy: 0.9429 - val_loss: 0.1585 - learning_rate: 6.2500e-05\n",
      "Epoch 37/120\n",
      "\u001b[1m443/443\u001b[0m \u001b[32m━━━━━━━━━━━━━━━━━━━━\u001b[0m\u001b[37m\u001b[0m \u001b[1m0s\u001b[0m 71ms/step - accuracy: 0.9535 - loss: 0.1218\n",
      "Epoch 37: val_accuracy improved from 0.94333 to 0.94365, saving model to best_model.keras\n",
      "\u001b[1m443/443\u001b[0m \u001b[32m━━━━━━━━━━━━━━━━━━━━\u001b[0m\u001b[37m\u001b[0m \u001b[1m33s\u001b[0m 73ms/step - accuracy: 0.9535 - loss: 0.1218 - val_accuracy: 0.9437 - val_loss: 0.1564 - learning_rate: 3.1250e-05\n",
      "Epoch 38/120\n",
      "\u001b[1m443/443\u001b[0m \u001b[32m━━━━━━━━━━━━━━━━━━━━\u001b[0m\u001b[37m\u001b[0m \u001b[1m0s\u001b[0m 66ms/step - accuracy: 0.9557 - loss: 0.1208\n",
      "Epoch 38: val_accuracy improved from 0.94365 to 0.94429, saving model to best_model.keras\n",
      "\u001b[1m443/443\u001b[0m \u001b[32m━━━━━━━━━━━━━━━━━━━━\u001b[0m\u001b[37m\u001b[0m \u001b[1m30s\u001b[0m 68ms/step - accuracy: 0.9557 - loss: 0.1209 - val_accuracy: 0.9443 - val_loss: 0.1564 - learning_rate: 3.1250e-05\n",
      "Epoch 39/120\n",
      "\u001b[1m443/443\u001b[0m \u001b[32m━━━━━━━━━━━━━━━━━━━━\u001b[0m\u001b[37m\u001b[0m \u001b[1m0s\u001b[0m 67ms/step - accuracy: 0.9542 - loss: 0.1233\n",
      "Epoch 39: ReduceLROnPlateau reducing learning rate to 1.5625000742147677e-05.\n",
      "\n",
      "Epoch 39: val_accuracy did not improve from 0.94429\n",
      "\u001b[1m443/443\u001b[0m \u001b[32m━━━━━━━━━━━━━━━━━━━━\u001b[0m\u001b[37m\u001b[0m \u001b[1m31s\u001b[0m 69ms/step - accuracy: 0.9542 - loss: 0.1233 - val_accuracy: 0.9440 - val_loss: 0.1565 - learning_rate: 3.1250e-05\n",
      "Epoch 40/120\n",
      "\u001b[1m443/443\u001b[0m \u001b[32m━━━━━━━━━━━━━━━━━━━━\u001b[0m\u001b[37m\u001b[0m \u001b[1m0s\u001b[0m 66ms/step - accuracy: 0.9535 - loss: 0.1236\n",
      "Epoch 40: val_accuracy did not improve from 0.94429\n",
      "\u001b[1m443/443\u001b[0m \u001b[32m━━━━━━━━━━━━━━━━━━━━\u001b[0m\u001b[37m\u001b[0m \u001b[1m30s\u001b[0m 68ms/step - accuracy: 0.9535 - loss: 0.1236 - val_accuracy: 0.9435 - val_loss: 0.1562 - learning_rate: 1.5625e-05\n",
      "Epoch 41/120\n",
      "\u001b[1m443/443\u001b[0m \u001b[32m━━━━━━━━━━━━━━━━━━━━\u001b[0m\u001b[37m\u001b[0m \u001b[1m0s\u001b[0m 66ms/step - accuracy: 0.9542 - loss: 0.1244\n",
      "Epoch 41: val_accuracy did not improve from 0.94429\n",
      "\u001b[1m443/443\u001b[0m \u001b[32m━━━━━━━━━━━━━━━━━━━━\u001b[0m\u001b[37m\u001b[0m \u001b[1m30s\u001b[0m 68ms/step - accuracy: 0.9542 - loss: 0.1244 - val_accuracy: 0.9435 - val_loss: 0.1560 - learning_rate: 1.5625e-05\n",
      "Epoch 42/120\n",
      "\u001b[1m443/443\u001b[0m \u001b[32m━━━━━━━━━━━━━━━━━━━━\u001b[0m\u001b[37m\u001b[0m \u001b[1m0s\u001b[0m 67ms/step - accuracy: 0.9546 - loss: 0.1223\n",
      "Epoch 42: ReduceLROnPlateau reducing learning rate to 7.812500371073838e-06.\n",
      "\n",
      "Epoch 42: val_accuracy did not improve from 0.94429\n",
      "\u001b[1m443/443\u001b[0m \u001b[32m━━━━━━━━━━━━━━━━━━━━\u001b[0m\u001b[37m\u001b[0m \u001b[1m31s\u001b[0m 69ms/step - accuracy: 0.9546 - loss: 0.1223 - val_accuracy: 0.9430 - val_loss: 0.1569 - learning_rate: 1.5625e-05\n",
      "Epoch 42: early stopping\n",
      "Restoring model weights from the end of the best epoch: 30.\n"
     ]
    }
   ],
   "source": [
    "reduce_lr = ReduceLROnPlateau(\n",
    "    monitor='val_loss',\n",
    "    factor=0.5,\n",
    "    patience=3,\n",
    "    min_lr=1e-7,\n",
    "    verbose=1)\n",
    "\n",
    "early_stop = EarlyStopping(\n",
    "    monitor='val_loss',\n",
    "    patience=12,\n",
    "    restore_best_weights=True,\n",
    "    verbose=1)\n",
    "\n",
    "ckpt = ModelCheckpoint(                                                                                                                                        \n",
    "    'best_model.keras', \n",
    "    \n",
    "    monitor='val_accuracy', \n",
    "    save_best_only=True, \n",
    "    verbose=1)\n",
    "\n",
    "history = f_mnist_model.fit(\n",
    "    train_ds,\n",
    "    validation_data= val_ds,\n",
    "    epochs=120,\n",
    "    callbacks=[reduce_lr, early_stop, ckpt],\n",
    "    verbose=1)"
   ]
  },
  {
   "cell_type": "markdown",
   "id": "d05d2d6d",
   "metadata": {},
   "source": [
    "**Metryki dla danych testowych:**"
   ]
  },
  {
   "cell_type": "code",
   "execution_count": 8,
   "id": "bc9f11cd",
   "metadata": {},
   "outputs": [
    {
     "name": "stdout",
     "output_type": "stream",
     "text": [
      "\u001b[1m55/55\u001b[0m \u001b[32m━━━━━━━━━━━━━━━━━━━━\u001b[0m\u001b[37m\u001b[0m \u001b[1m1s\u001b[0m 19ms/step - accuracy: 0.9490 - loss: 0.1411\n",
      "Test loss: 0.1424 | Test acc: 0.9506\n"
     ]
    }
   ],
   "source": [
    "test_loss, test_acc = f_mnist_model.evaluate(test_ds, verbose=1)\n",
    "print(f\"Test loss: {test_loss:.4f} | Test acc: {test_acc:.4f}\")"
   ]
  }
 ],
 "metadata": {
  "kernelspec": {
   "display_name": "Python 3 (ipykernel)",
   "language": "python",
   "name": "python3"
  },
  "language_info": {
   "codemirror_mode": {
    "name": "ipython",
    "version": 3
   },
   "file_extension": ".py",
   "mimetype": "text/x-python",
   "name": "python",
   "nbconvert_exporter": "python",
   "pygments_lexer": "ipython3",
   "version": "3.9.13"
  }
 },
 "nbformat": 4,
 "nbformat_minor": 5
}
