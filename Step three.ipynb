{
 "cells": [
  {
   "cell_type": "markdown",
   "id": "308ca6e1",
   "metadata": {},
   "source": [
    "**Import bibliotek:**"
   ]
  },
  {
   "cell_type": "code",
   "execution_count": 1,
   "id": "8299ca22",
   "metadata": {},
   "outputs": [
    {
     "name": "stderr",
     "output_type": "stream",
     "text": [
      "C:\\projects\\Wizualizacja_danych_cz1\\env\\lib\\site-packages\\albumentations\\__init__.py:28: UserWarning: A new version of AlbumentationsX (2.0.10) is available! Your version is 2.0.9. Upgrade using: pip install -U albumentationsx\n",
      "  check_for_updates()\n"
     ]
    }
   ],
   "source": [
    "import numpy as np\n",
    "import tensorflow as tf\n",
    "from sklearn.model_selection import train_test_split\n",
    "from tensorflow.keras import layers\n",
    "from tensorflow.keras.callbacks import ReduceLROnPlateau, EarlyStopping, ModelCheckpoint\n",
    "from tensorflow.keras.layers import Dropout\n",
    "from tensorflow import keras\n",
    "\n",
    "import albumentations as A\n",
    "import cv2"
   ]
  },
  {
   "cell_type": "markdown",
   "id": "2b3ba73f",
   "metadata": {},
   "source": [
    "**Augumentacja:**"
   ]
  },
  {
   "cell_type": "code",
   "execution_count": 2,
   "id": "eea0acc2",
   "metadata": {},
   "outputs": [],
   "source": [
    "albumential_train = A.Compose([\n",
    "    A.PadIfNeeded(min_height=30, min_width=30, border_mode=cv2.BORDER_REFLECT_101),\n",
    "    A.RandomCrop(28, 28),\n",
    "    A.Rotate(limit=8, border_mode=cv2.BORDER_REFLECT_101, p=0.2),\n",
    "    A.RandomBrightnessContrast(0.1, 0.1, p=0.6)\n",
    "])"
   ]
  },
  {
   "cell_type": "markdown",
   "id": "d069f154",
   "metadata": {},
   "source": [
    "**Funkcje związane z przygotowaniem zestawów danych dla TF:**"
   ]
  },
  {
   "cell_type": "code",
   "execution_count": 3,
   "id": "69b4c686",
   "metadata": {},
   "outputs": [],
   "source": [
    "def preprocess(x, y):\n",
    "    x = tf.cast(x, tf.float32) / 255.0\n",
    "    x = tf.expand_dims(x, -1)\n",
    "    return x, y\n",
    "\n",
    "def albu_apply(img):\n",
    "    if img.ndim == 2:\n",
    "        img = np.expand_dims(img, -1)                 \n",
    "    out = albumential_train(image=img)['image']        \n",
    "    return out\n",
    "\n",
    "def albu_map(x, y):\n",
    "    x = tf.numpy_function(lambda z: albu_apply(z), [x], tf.uint8)\n",
    "    x.set_shape([28, 28, 1])                       \n",
    "    x = tf.cast(x, tf.float32) / 255.0             \n",
    "    return x, y"
   ]
  },
  {
   "cell_type": "markdown",
   "id": "e20bd14c",
   "metadata": {},
   "source": [
    "**Podział danych na zbiór treningowy, walidacyjny oraz testowy:**"
   ]
  },
  {
   "cell_type": "code",
   "execution_count": 4,
   "id": "16b14d12",
   "metadata": {},
   "outputs": [],
   "source": [
    "(x_train_dl, y_train_dl), (x_test_dl, y_test_dl) = tf.keras.datasets.fashion_mnist.load_data()\n",
    "\n",
    "images = np.concatenate([x_train_dl, x_test_dl], axis=0)\n",
    "labels = np.concatenate([y_train_dl, y_test_dl], axis=0)\n",
    "\n",
    "X_train, X_test, y_train, y_test = train_test_split(images, labels, test_size=0.1, random_state=10, stratify=labels)\n",
    "\n",
    "X_train, X_val, y_train, y_val = train_test_split(X_train, y_train, test_size=0.1, random_state=10, stratify=y_train)"
   ]
  },
  {
   "cell_type": "markdown",
   "id": "8c870e46",
   "metadata": {},
   "source": [
    "**Tworzenie Datasetów TF:**"
   ]
  },
  {
   "cell_type": "code",
   "execution_count": 5,
   "id": "db782549",
   "metadata": {},
   "outputs": [],
   "source": [
    "AUTOTUNE = tf.data.AUTOTUNE\n",
    "BATCH = 128\n",
    "\n",
    "train_ds = (tf.data.Dataset.from_tensor_slices((X_train, y_train))\n",
    "            .shuffle(len(X_train), seed=42, reshuffle_each_iteration=True)\n",
    "            .map(albu_map, num_parallel_calls=AUTOTUNE)\n",
    "            .batch(BATCH)\n",
    "            .prefetch(AUTOTUNE))\n",
    "\n",
    "val_ds = (tf.data.Dataset.from_tensor_slices((X_val, y_val))\n",
    "            .map(preprocess, num_parallel_calls=AUTOTUNE)\n",
    "            .batch(BATCH).prefetch(AUTOTUNE))\n",
    "\n",
    "test_ds = (tf.data.Dataset.from_tensor_slices((X_test, y_test))\n",
    "           .map(preprocess, num_parallel_calls=AUTOTUNE)\n",
    "           .batch(BATCH).prefetch(AUTOTUNE))"
   ]
  },
  {
   "cell_type": "markdown",
   "id": "56b84f60",
   "metadata": {},
   "source": [
    "**Tworzenie Sieci CNN oraz kompilacja:**"
   ]
  },
  {
   "cell_type": "code",
   "execution_count": 6,
   "id": "3a72c930",
   "metadata": {},
   "outputs": [
    {
     "name": "stderr",
     "output_type": "stream",
     "text": [
      "C:\\projects\\Wizualizacja_danych_cz1\\env\\lib\\site-packages\\keras\\src\\layers\\convolutional\\base_conv.py:113: UserWarning: Do not pass an `input_shape`/`input_dim` argument to a layer. When using Sequential models, prefer using an `Input(shape)` object as the first layer in the model instead.\n",
      "  super().__init__(activity_regularizer=activity_regularizer, **kwargs)\n"
     ]
    }
   ],
   "source": [
    "f_mnist_model = tf.keras.Sequential([\n",
    "      \n",
    "    layers.Conv2D(32, (3, 3), padding='same', activation='relu', input_shape=(28, 28, 1)),\n",
    "    layers.Conv2D(32, (3, 3), padding='same', activation='relu'),\n",
    "    layers.MaxPooling2D(pool_size=(2, 2)),\n",
    "    layers.BatchNormalization(),\n",
    "    \n",
    "    layers.Conv2D(64, (3, 3), padding='same', activation='relu'),\n",
    "    layers.Conv2D(64, (3, 3), padding='same', activation='relu'),\n",
    "    layers.MaxPooling2D(pool_size=(2, 2)),\n",
    "    layers.BatchNormalization(),\n",
    "    layers.Dropout(0.3),\n",
    "    \n",
    "    \n",
    "    layers.Conv2D(128, (3, 3), padding='same', activation='relu'),\n",
    "    layers.Conv2D(128, (3, 3), padding='same', activation='relu'),\n",
    "    layers.GlobalAveragePooling2D(),\n",
    "    layers.BatchNormalization(),\n",
    "    layers.Dropout(0.3),\n",
    "        \n",
    "    layers.Flatten(),\n",
    "    layers.Dense(512, activation='relu'),\n",
    "    layers.Dropout(0.3),\n",
    "    layers.Dense(10, activation='softmax'), \n",
    "])\n",
    "\n",
    "opt = tf.keras.optimizers.AdamW(learning_rate=0.002, weight_decay=1e-4)\n",
    "\n",
    "f_mnist_model.compile(\n",
    "    loss='sparse_categorical_crossentropy',\n",
    "    optimizer=opt,\n",
    "    metrics=['accuracy'])"
   ]
  },
  {
   "cell_type": "markdown",
   "id": "5e83a774",
   "metadata": {},
   "source": [
    "**Deklarowanie callbacków:**"
   ]
  },
  {
   "cell_type": "code",
   "execution_count": null,
   "id": "3700d389",
   "metadata": {
    "scrolled": true
   },
   "outputs": [
    {
     "name": "stdout",
     "output_type": "stream",
     "text": [
      "Epoch 1/120\n",
      "\u001b[1m443/443\u001b[0m \u001b[32m━━━━━━━━━━━━━━━━━━━━\u001b[0m\u001b[37m\u001b[0m \u001b[1m0s\u001b[0m 124ms/step - accuracy: 0.7261 - loss: 0.7413\n",
      "Epoch 1: val_accuracy improved from -inf to 0.58730, saving model to best_model.keras\n",
      "\u001b[1m443/443\u001b[0m \u001b[32m━━━━━━━━━━━━━━━━━━━━\u001b[0m\u001b[37m\u001b[0m \u001b[1m67s\u001b[0m 130ms/step - accuracy: 0.7263 - loss: 0.7409 - val_accuracy: 0.5873 - val_loss: 1.0372 - learning_rate: 0.0020\n",
      "Epoch 2/120\n",
      "\u001b[1m186/443\u001b[0m \u001b[32m━━━━━━━━\u001b[0m\u001b[37m━━━━━━━━━━━━\u001b[0m \u001b[1m32s\u001b[0m 125ms/step - accuracy: 0.8596 - loss: 0.3869"
     ]
    }
   ],
   "source": [
    "reduce_lr = ReduceLROnPlateau(\n",
    "    monitor='val_loss',\n",
    "    factor=0.5,\n",
    "    patience=3,\n",
    "    min_lr=1e-7,\n",
    "    verbose=1)\n",
    "\n",
    "early_stop = EarlyStopping(\n",
    "    monitor='val_loss',\n",
    "    patience=12,\n",
    "    restore_best_weights=True,\n",
    "    verbose=1)\n",
    "\n",
    "ckpt = ModelCheckpoint(                                                                                                                                        \n",
    "    'best_model.keras', \n",
    "    \n",
    "    monitor='val_accuracy', \n",
    "    save_best_only=True, \n",
    "    verbose=1)\n",
    "\n",
    "history = f_mnist_model.fit(\n",
    "    train_ds,\n",
    "    validation_data= val_ds,\n",
    "    epochs=120,\n",
    "    callbacks=[reduce_lr, early_stop, ckpt],\n",
    "    verbose=1)"
   ]
  },
  {
   "cell_type": "markdown",
   "id": "31446b70",
   "metadata": {},
   "source": [
    "**Metryki dla danych testowych:**"
   ]
  },
  {
   "cell_type": "code",
   "execution_count": null,
   "id": "91e58a5c",
   "metadata": {},
   "outputs": [],
   "source": [
    "test_loss, test_acc = f_mnist_model.evaluate(test_ds, verbose=1)\n",
    "print(f\"Test loss: {test_loss:.4f} | Test acc: {test_acc:.4f}\")"
   ]
  }
 ],
 "metadata": {
  "kernelspec": {
   "display_name": "Python 3 (ipykernel)",
   "language": "python",
   "name": "python3"
  },
  "language_info": {
   "codemirror_mode": {
    "name": "ipython",
    "version": 3
   },
   "file_extension": ".py",
   "mimetype": "text/x-python",
   "name": "python",
   "nbconvert_exporter": "python",
   "pygments_lexer": "ipython3",
   "version": "3.9.13"
  }
 },
 "nbformat": 4,
 "nbformat_minor": 5
}
