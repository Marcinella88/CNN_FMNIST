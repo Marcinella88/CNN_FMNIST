{
 "cells": [
  {
   "cell_type": "markdown",
   "id": "a7179b43",
   "metadata": {},
   "source": [
    "**Import bibliotek:**"
   ]
  },
  {
   "cell_type": "code",
   "execution_count": 1,
   "id": "cfabe255",
   "metadata": {},
   "outputs": [],
   "source": [
    "import numpy as np\n",
    "import tensorflow as tf\n",
    "\n",
    "from sklearn.model_selection import train_test_split\n",
    "\n",
    "from tensorflow.keras import layers\n",
    "from tensorflow.keras.callbacks import ReduceLROnPlateau, EarlyStopping, ModelCheckpoint\n",
    "from tensorflow.keras.layers import Dropout\n",
    "from tensorflow import keras\n",
    "\n",
    "import os\n",
    "import matplotlib.pyplot as plt"
   ]
  },
  {
   "cell_type": "markdown",
   "id": "da4c4739",
   "metadata": {},
   "source": [
    "**Podział danych na zbiór treningowy, walidacyjny oraz testowy:**"
   ]
  },
  {
   "cell_type": "code",
   "execution_count": 2,
   "id": "4c449a40",
   "metadata": {},
   "outputs": [],
   "source": [
    "(x_train_ld, y_train_ld), (x_test_ld, y_test_ld) = tf.keras.datasets.fashion_mnist.load_data()\n",
    "\n",
    "images = np.concatenate([x_train_ld, x_test_ld], axis=0) # zbiór zawierający wszystkie zdjęcia\n",
    "labels = np.concatenate([y_train_ld, y_test_ld], axis=0) # zbiór zawierający wszystkie etykiety\n",
    "\n",
    "X_train_tt, X_test, y_train_tt, y_test = \\\n",
    "    train_test_split(images, labels, test_size=0.1, random_state=10, stratify=labels) #Podział na zbiór treningowy oraz testowy\n",
    "\n",
    "X_train, X_val, y_train, y_val = \\\n",
    "    train_test_split(X_train_tt, y_train_tt, test_size=0.1, random_state=10, stratify=y_train_tt) #Wydzielenie zbiór treningowy oraz walidacyjnego z części treningowej."
   ]
  },
  {
   "cell_type": "markdown",
   "id": "c3d37afb",
   "metadata": {},
   "source": [
    "**Tworzenie Datasetów TF:**"
   ]
  },
  {
   "cell_type": "code",
   "execution_count": 3,
   "id": "1b54a05c",
   "metadata": {},
   "outputs": [],
   "source": [
    "AUTOTUNE = tf.data.AUTOTUNE              # \n",
    "BATCH = 128                               # Zadeklarowanie wartości batch - porcja danych\n",
    "        \n",
    "def preprocess(x, y):\n",
    "    x = tf.cast(x, tf.float32) / 255.0   # normalizacja wartości pikseli z zakresu 0-255 na 0-1.\n",
    "    x = tf.expand_dims(x, -1)            # dodanie trzeciego wymiaru na tablicy\n",
    "    return x, y\n",
    "\n",
    "train_ds = (tf.data.Dataset.from_tensor_slices((X_train, y_train))           # tworzenie obiektu Dataset dla TF (obraz,etykieta)\n",
    "            .shuffle(len(X_train), seed=42, reshuffle_each_iteration=True)   # tasuje dane (tasowanie w pełnym zakresie, losowość powtarzalna, dane będą tasowane przy kazdym przejściu przez epokę)\n",
    "            .map(preprocess, num_parallel_calls=AUTOTUNE)                    # przetwarzanie danych (funkcja preprocess, zmiana wymiarów)\n",
    "            .batch(BATCH).prefetch(AUTOTUNE))                                # grupuje dane na paczki po BATCH-elementów, przygotowuje kolejną porcję danych z wyprzedzeniem. \n",
    "\n",
    "val_ds = (tf.data.Dataset.from_tensor_slices((X_val, y_val))\n",
    "          .map(preprocess, num_parallel_calls=AUTOTUNE)\n",
    "          .batch(BATCH).prefetch(AUTOTUNE))\n",
    "\n",
    "test_ds = (tf.data.Dataset.from_tensor_slices((X_test, y_test))\n",
    "           .map(preprocess, num_parallel_calls=AUTOTUNE)\n",
    "           .batch(BATCH).prefetch(AUTOTUNE))"
   ]
  },
  {
   "cell_type": "markdown",
   "id": "75389dd1",
   "metadata": {},
   "source": [
    "**Tworzenie Sieci CNN oraz kompilacja:**"
   ]
  },
  {
   "cell_type": "code",
   "execution_count": 4,
   "id": "719e5fb3",
   "metadata": {},
   "outputs": [],
   "source": [
    "f_mnist_model = tf.keras.Sequential([\n",
    "    layers.Input(shape=(28, 28, 1)),\n",
    "    layers.Conv2D(32, 3, padding='same', activation='relu'),\n",
    "    layers.BatchNormalization(),\n",
    "    layers.Conv2D(64, 3, padding='same', activation='relu'),\n",
    "    layers.MaxPooling2D(),\n",
    "    layers.Dropout(0.4),\n",
    "    layers.Conv2D(128, 3, padding='same', activation='relu'),\n",
    "    layers.GlobalAveragePooling2D(),\n",
    "    layers.Dense(256, activation='relu'),\n",
    "    layers.Dropout(0.4),\n",
    "    layers.Dense(10, activation='softmax')])\n",
    "\n",
    "f_mnist_model.compile(\n",
    "    loss='sparse_categorical_crossentropy',\n",
    "    optimizer='adamW',\n",
    "    metrics=['accuracy'])"
   ]
  },
  {
   "cell_type": "markdown",
   "id": "e793a23a",
   "metadata": {},
   "source": [
    "**Deklarowanie callbacków:**"
   ]
  },
  {
   "cell_type": "code",
   "execution_count": 5,
   "id": "c46beb15",
   "metadata": {},
   "outputs": [],
   "source": [
    "reduce_lr = ReduceLROnPlateau(\n",
    "    monitor='val_loss',\n",
    "    factor=0.2,\n",
    "    patience=4,\n",
    "    min_lr=1e-7,\n",
    "    verbose=1)\n",
    "\n",
    "early_stop = EarlyStopping(\n",
    "    monitor='val_loss',\n",
    "    patience=8,\n",
    "    restore_best_weights=True,\n",
    "    verbose=1)\n",
    "\n",
    "ckpt = ModelCheckpoint(\n",
    "    'best_model.keras', \n",
    "    monitor='val_loss', \n",
    "    save_best_only=True, \n",
    "    verbose=1)"
   ]
  },
  {
   "cell_type": "markdown",
   "id": "25aa4218",
   "metadata": {},
   "source": [
    "**Trenowanie CNN:**"
   ]
  },
  {
   "cell_type": "code",
   "execution_count": null,
   "id": "cf58f1f9",
   "metadata": {
    "scrolled": true
   },
   "outputs": [
    {
     "name": "stdout",
     "output_type": "stream",
     "text": [
      "Epoch 1/40\n",
      "\u001b[1m443/443\u001b[0m \u001b[32m━━━━━━━━━━━━━━━━━━━━\u001b[0m\u001b[37m\u001b[0m \u001b[1m0s\u001b[0m 77ms/step - accuracy: 0.5248 - loss: 1.2749\n",
      "Epoch 1: val_loss improved from inf to 0.88096, saving model to best_model.keras\n",
      "\u001b[1m443/443\u001b[0m \u001b[32m━━━━━━━━━━━━━━━━━━━━\u001b[0m\u001b[37m\u001b[0m \u001b[1m37s\u001b[0m 80ms/step - accuracy: 0.5250 - loss: 1.2741 - val_accuracy: 0.7686 - val_loss: 0.8810 - learning_rate: 0.0010\n",
      "Epoch 2/40\n",
      "\u001b[1m443/443\u001b[0m \u001b[32m━━━━━━━━━━━━━━━━━━━━\u001b[0m\u001b[37m\u001b[0m \u001b[1m0s\u001b[0m 119ms/step - accuracy: 0.7797 - loss: 0.6015\n",
      "Epoch 2: val_loss improved from 0.88096 to 0.46686, saving model to best_model.keras\n",
      "\u001b[1m443/443\u001b[0m \u001b[32m━━━━━━━━━━━━━━━━━━━━\u001b[0m\u001b[37m\u001b[0m \u001b[1m55s\u001b[0m 122ms/step - accuracy: 0.7798 - loss: 0.6015 - val_accuracy: 0.8321 - val_loss: 0.4669 - learning_rate: 0.0010\n",
      "Epoch 3/40\n",
      "\u001b[1m130/443\u001b[0m \u001b[32m━━━━━\u001b[0m\u001b[37m━━━━━━━━━━━━━━━\u001b[0m \u001b[1m35s\u001b[0m 114ms/step - accuracy: 0.8192 - loss: 0.5094"
     ]
    }
   ],
   "source": [
    "history = f_mnist_model.fit(\n",
    "    train_ds,\n",
    "    validation_data= val_ds,\n",
    "    epochs=40,\n",
    "    callbacks=[reduce_lr, early_stop, ckpt],\n",
    "    verbose=1)"
   ]
  },
  {
   "cell_type": "markdown",
   "id": "3468e178",
   "metadata": {},
   "source": [
    "**Weryfikacja metryk na zbiorze testowym:**  "
   ]
  },
  {
   "cell_type": "code",
   "execution_count": null,
   "id": "088c12ef",
   "metadata": {},
   "outputs": [],
   "source": [
    "test_loss, test_acc = f_mnist_model.evaluate(test_ds, verbose=1)\n",
    "print(f\"Test loss: {test_loss:.4f} | Test acc: {test_acc:.4f}\")"
   ]
  },
  {
   "cell_type": "markdown",
   "id": "93921ebe",
   "metadata": {},
   "source": [
    "**Podsumowanie modelu CNN:**"
   ]
  },
  {
   "cell_type": "code",
   "execution_count": null,
   "id": "f4d3f207",
   "metadata": {},
   "outputs": [],
   "source": [
    "f_mnist_model.summary()"
   ]
  },
  {
   "cell_type": "markdown",
   "id": "0580cec9",
   "metadata": {},
   "source": [
    "**Sprawdź czy istniee folder:\"export\", jeśli nie to to stwórz:**"
   ]
  },
  {
   "cell_type": "code",
   "execution_count": null,
   "id": "dfd324b5",
   "metadata": {},
   "outputs": [],
   "source": [
    "os.makedirs(\"export\", exist_ok=True)\n",
    "f_mnist_model.save(\"export/fashion_cnn_savedmodel.keras\")"
   ]
  },
  {
   "cell_type": "markdown",
   "id": "ecdcd25e",
   "metadata": {},
   "source": [
    "**Export modelu do folderu:**"
   ]
  },
  {
   "cell_type": "code",
   "execution_count": null,
   "id": "5cf85ca0",
   "metadata": {},
   "outputs": [],
   "source": [
    "f_mnist_model.save(\"export/fashion_cnn_savedmodel.keras\")"
   ]
  },
  {
   "cell_type": "markdown",
   "id": "fad0038a",
   "metadata": {},
   "source": [
    "**Import modelu:**"
   ]
  },
  {
   "cell_type": "code",
   "execution_count": null,
   "id": "a8f91016",
   "metadata": {},
   "outputs": [],
   "source": [
    "model_imported = tf.keras.models.load_model(\"export/fashion_cnn_savedmodel.keras\")"
   ]
  },
  {
   "cell_type": "markdown",
   "id": "84b6739d",
   "metadata": {},
   "source": [
    "**Tworzenie funkcji/interfejsu która przedstawi nam wskazany obraz, etykietę oraz predykcję modelu:**"
   ]
  },
  {
   "cell_type": "code",
   "execution_count": null,
   "id": "2d69c9e9",
   "metadata": {},
   "outputs": [],
   "source": [
    "def show_prediction(model, X_test, y_test, idx):\n",
    "    \n",
    "    product_names = [\n",
    "        \"T-shirt/top\",\"Trouser\",\"Pullover\",\"Dress\",\"Coat\",\n",
    "        \"Sandal\",\"Shirt\",\"Sneaker\",\"Bag\",\"Ankle boot\"]\n",
    "    \n",
    "   \n",
    "    x = np.expand_dims(np.expand_dims(X_test[idx].astype(\"float32\") / 255.0, -1), 0)\n",
    "\n",
    "    probs = model.predict(x, verbose=0)\n",
    "    y_pred = np.argmax(probs, axis=1)[0]\n",
    "    conf = probs[0, y_pred]\n",
    "\n",
    "    true_name = product_names[int(y_test[idx])]\n",
    "    pred_name = product_names[y_pred]\n",
    "\n",
    "    plt.imshow(X_test[idx], cmap=\"gray\")\n",
    "    plt.title(f\"Etykieta: {true_name}\\nPredykcja: {pred_name} ({conf:.2f})\")\n",
    "    plt.axis(\"off\")\n",
    "    plt.show()"
   ]
  },
  {
   "cell_type": "markdown",
   "id": "b7003bfc",
   "metadata": {},
   "source": [
    "**Wpisz wartość dla \"nr_foto\" aby poniżej ruchamiając funkcję wyświetlić obrazek, etykietę oraz predykcję:**"
   ]
  },
  {
   "cell_type": "code",
   "execution_count": null,
   "id": "6816eaf3",
   "metadata": {},
   "outputs": [],
   "source": [
    "nr_foto = 113"
   ]
  },
  {
   "cell_type": "code",
   "execution_count": null,
   "id": "70bb0882",
   "metadata": {},
   "outputs": [],
   "source": [
    "show_prediction(model_imported,X_test, y_test,nr_foto)"
   ]
  }
 ],
 "metadata": {
  "kernelspec": {
   "display_name": "Python 3 (ipykernel)",
   "language": "python",
   "name": "python3"
  },
  "language_info": {
   "codemirror_mode": {
    "name": "ipython",
    "version": 3
   },
   "file_extension": ".py",
   "mimetype": "text/x-python",
   "name": "python",
   "nbconvert_exporter": "python",
   "pygments_lexer": "ipython3",
   "version": "3.9.13"
  }
 },
 "nbformat": 4,
 "nbformat_minor": 5
}
