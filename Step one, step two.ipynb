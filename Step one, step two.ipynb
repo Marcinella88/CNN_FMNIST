{
 "cells": [
  {
   "cell_type": "markdown",
   "id": "979d0ea6",
   "metadata": {},
   "source": [
    "**Import bibliotek:**"
   ]
  },
  {
   "cell_type": "code",
   "execution_count": 1,
   "id": "ec777fd4",
   "metadata": {},
   "outputs": [],
   "source": [
    "import numpy as np\n",
    "import tensorflow as tf\n",
    "\n",
    "from sklearn.model_selection import train_test_split\n",
    "\n",
    "from tensorflow.keras import layers\n",
    "from tensorflow.keras.callbacks import ReduceLROnPlateau, EarlyStopping, ModelCheckpoint\n",
    "from tensorflow.keras.layers import Dropout\n",
    "from tensorflow import keras\n",
    "\n",
    "import os\n",
    "import matplotlib.pyplot as plt"
   ]
  },
  {
   "cell_type": "markdown",
   "id": "dca0327d",
   "metadata": {},
   "source": [
    "**Podział danych na zbiór treningowy, walidacyjny oraz testowy:**"
   ]
  },
  {
   "cell_type": "code",
   "execution_count": 2,
   "id": "313d38e0",
   "metadata": {},
   "outputs": [],
   "source": [
    "(x_train_ld, y_train_ld), (x_test_ld, y_test_ld) = tf.keras.datasets.fashion_mnist.load_data()\n",
    "\n",
    "images = np.concatenate([x_train_ld, x_test_ld], axis=0) # zbiór zawierający wszystkie zdjęcia\n",
    "labels = np.concatenate([y_train_ld, y_test_ld], axis=0) # zbiór zawierający wszystkie etykiety\n",
    "\n",
    "X_train_tt, X_test, y_train_tt, y_test = \\\n",
    "    train_test_split(images, labels, test_size=0.1, random_state=10, stratify=labels) #Podział na zbiór treningowy oraz testowy\n",
    "\n",
    "X_train, X_val, y_train, y_val = \\\n",
    "    train_test_split(X_train_tt, y_train_tt, test_size=0.1, random_state=10, stratify=y_train_tt) #Wydzielenie zbiór treningowy oraz walidacyjnego z części treningowej."
   ]
  },
  {
   "cell_type": "markdown",
   "id": "816e7095",
   "metadata": {},
   "source": [
    "**Tworzenie Datasetów TF:**"
   ]
  },
  {
   "cell_type": "code",
   "execution_count": 3,
   "id": "4ae4153b",
   "metadata": {},
   "outputs": [],
   "source": [
    "AUTOTUNE = tf.data.AUTOTUNE              # \n",
    "BATCH = 128                               # Zadeklarowanie wartości batch - porcja danych\n",
    "        \n",
    "def preprocess(x, y):\n",
    "    x = tf.cast(x, tf.float32) / 255.0   # normalizacja wartości pikseli z zakresu 0-255 na 0-1.\n",
    "    x = tf.expand_dims(x, -1)            # dodanie trzeciego wymiaru na tablicy\n",
    "    return x, y\n",
    "\n",
    "train_ds = (tf.data.Dataset.from_tensor_slices((X_train, y_train))           # tworzenie obiektu Dataset dla TF (obraz,etykieta)\n",
    "            .shuffle(len(X_train), seed=42, reshuffle_each_iteration=True)   # tasuje dane (tasowanie w pełnym zakresie, losowość powtarzalna, dane będą tasowane przy kazdym przejściu przez epokę)\n",
    "            .map(preprocess, num_parallel_calls=AUTOTUNE)                    # przetwarzanie danych (funkcja preprocess, zmiana wymiarów)\n",
    "            .batch(BATCH).prefetch(AUTOTUNE))                                # grupuje dane na paczki po BATCH-elementów, przygotowuje kolejną porcję danych z wyprzedzeniem. \n",
    "\n",
    "val_ds = (tf.data.Dataset.from_tensor_slices((X_val, y_val))\n",
    "          .map(preprocess, num_parallel_calls=AUTOTUNE)\n",
    "          .batch(BATCH).prefetch(AUTOTUNE))\n",
    "\n",
    "test_ds = (tf.data.Dataset.from_tensor_slices((X_test, y_test))\n",
    "           .map(preprocess, num_parallel_calls=AUTOTUNE)\n",
    "           .batch(BATCH).prefetch(AUTOTUNE))"
   ]
  },
  {
   "cell_type": "markdown",
   "id": "0a5f1409",
   "metadata": {},
   "source": [
    "**Tworzenie Sieci CNN oraz kompilacja:**"
   ]
  },
  {
   "cell_type": "code",
   "execution_count": 4,
   "id": "ee4a0564",
   "metadata": {},
   "outputs": [],
   "source": [
    "f_mnist_model = tf.keras.Sequential([\n",
    "    layers.Input(shape=(28, 28, 1)),\n",
    "    layers.Conv2D(32, 3, padding='same', activation='relu'),\n",
    "    layers.BatchNormalization(),\n",
    "    layers.Conv2D(64, 3, padding='same', activation='relu'),\n",
    "    layers.MaxPooling2D(),\n",
    "    layers.Dropout(0.4),\n",
    "    layers.Conv2D(128, 3, padding='same', activation='relu'),\n",
    "    layers.GlobalAveragePooling2D(),\n",
    "    layers.Dense(256, activation='relu'),\n",
    "    layers.Dropout(0.4),\n",
    "    layers.Dense(10, activation='softmax')])\n",
    "\n",
    "f_mnist_model.compile(\n",
    "    loss='sparse_categorical_crossentropy',\n",
    "    optimizer='adamW',\n",
    "    metrics=['accuracy'])"
   ]
  },
  {
   "cell_type": "markdown",
   "id": "5b94bbc5",
   "metadata": {},
   "source": [
    "**Deklarowanie callbacków:**"
   ]
  },
  {
   "cell_type": "code",
   "execution_count": 5,
   "id": "d979de53",
   "metadata": {},
   "outputs": [],
   "source": [
    "reduce_lr = ReduceLROnPlateau(\n",
    "    monitor='val_loss',\n",
    "    factor=0.2,\n",
    "    patience=4,\n",
    "    min_lr=1e-7,\n",
    "    verbose=1)\n",
    "\n",
    "early_stop = EarlyStopping(\n",
    "    monitor='val_loss',\n",
    "    patience=8,\n",
    "    restore_best_weights=True,\n",
    "    verbose=1)\n",
    "\n",
    "ckpt = ModelCheckpoint(\n",
    "    'best_model.keras', \n",
    "    monitor='val_loss', \n",
    "    save_best_only=True, \n",
    "    verbose=1)"
   ]
  },
  {
   "cell_type": "markdown",
   "id": "74167d63",
   "metadata": {},
   "source": [
    "**Trenowanie CNN:**"
   ]
  },
  {
   "cell_type": "code",
   "execution_count": 6,
   "id": "154d89a2",
   "metadata": {
    "scrolled": true
   },
   "outputs": [
    {
     "name": "stdout",
     "output_type": "stream",
     "text": [
      "Epoch 1/40\n",
      "\u001b[1m443/443\u001b[0m \u001b[32m━━━━━━━━━━━━━━━━━━━━\u001b[0m\u001b[37m\u001b[0m \u001b[1m0s\u001b[0m 77ms/step - accuracy: 0.5248 - loss: 1.2749\n",
      "Epoch 1: val_loss improved from inf to 0.88096, saving model to best_model.keras\n",
      "\u001b[1m443/443\u001b[0m \u001b[32m━━━━━━━━━━━━━━━━━━━━\u001b[0m\u001b[37m\u001b[0m \u001b[1m37s\u001b[0m 80ms/step - accuracy: 0.5250 - loss: 1.2741 - val_accuracy: 0.7686 - val_loss: 0.8810 - learning_rate: 0.0010\n",
      "Epoch 2/40\n",
      "\u001b[1m443/443\u001b[0m \u001b[32m━━━━━━━━━━━━━━━━━━━━\u001b[0m\u001b[37m\u001b[0m \u001b[1m0s\u001b[0m 119ms/step - accuracy: 0.7797 - loss: 0.6015\n",
      "Epoch 2: val_loss improved from 0.88096 to 0.46686, saving model to best_model.keras\n",
      "\u001b[1m443/443\u001b[0m \u001b[32m━━━━━━━━━━━━━━━━━━━━\u001b[0m\u001b[37m\u001b[0m \u001b[1m55s\u001b[0m 122ms/step - accuracy: 0.7798 - loss: 0.6015 - val_accuracy: 0.8321 - val_loss: 0.4669 - learning_rate: 0.0010\n",
      "Epoch 3/40\n",
      "\u001b[1m443/443\u001b[0m \u001b[32m━━━━━━━━━━━━━━━━━━━━\u001b[0m\u001b[37m\u001b[0m \u001b[1m0s\u001b[0m 118ms/step - accuracy: 0.8235 - loss: 0.4952\n",
      "Epoch 3: val_loss improved from 0.46686 to 0.41360, saving model to best_model.keras\n",
      "\u001b[1m443/443\u001b[0m \u001b[32m━━━━━━━━━━━━━━━━━━━━\u001b[0m\u001b[37m\u001b[0m \u001b[1m54s\u001b[0m 122ms/step - accuracy: 0.8235 - loss: 0.4951 - val_accuracy: 0.8457 - val_loss: 0.4136 - learning_rate: 0.0010\n",
      "Epoch 4/40\n",
      "\u001b[1m443/443\u001b[0m \u001b[32m━━━━━━━━━━━━━━━━━━━━\u001b[0m\u001b[37m\u001b[0m \u001b[1m0s\u001b[0m 121ms/step - accuracy: 0.8453 - loss: 0.4365\n",
      "Epoch 4: val_loss improved from 0.41360 to 0.38987, saving model to best_model.keras\n",
      "\u001b[1m443/443\u001b[0m \u001b[32m━━━━━━━━━━━━━━━━━━━━\u001b[0m\u001b[37m\u001b[0m \u001b[1m56s\u001b[0m 125ms/step - accuracy: 0.8453 - loss: 0.4365 - val_accuracy: 0.8492 - val_loss: 0.3899 - learning_rate: 0.0010\n",
      "Epoch 5/40\n",
      "\u001b[1m443/443\u001b[0m \u001b[32m━━━━━━━━━━━━━━━━━━━━\u001b[0m\u001b[37m\u001b[0m \u001b[1m0s\u001b[0m 117ms/step - accuracy: 0.8556 - loss: 0.4010\n",
      "Epoch 5: val_loss improved from 0.38987 to 0.33164, saving model to best_model.keras\n",
      "\u001b[1m443/443\u001b[0m \u001b[32m━━━━━━━━━━━━━━━━━━━━\u001b[0m\u001b[37m\u001b[0m \u001b[1m54s\u001b[0m 121ms/step - accuracy: 0.8556 - loss: 0.4010 - val_accuracy: 0.8757 - val_loss: 0.3316 - learning_rate: 0.0010\n",
      "Epoch 6/40\n",
      "\u001b[1m443/443\u001b[0m \u001b[32m━━━━━━━━━━━━━━━━━━━━\u001b[0m\u001b[37m\u001b[0m \u001b[1m0s\u001b[0m 118ms/step - accuracy: 0.8697 - loss: 0.3646\n",
      "Epoch 6: val_loss improved from 0.33164 to 0.32003, saving model to best_model.keras\n",
      "\u001b[1m443/443\u001b[0m \u001b[32m━━━━━━━━━━━━━━━━━━━━\u001b[0m\u001b[37m\u001b[0m \u001b[1m55s\u001b[0m 122ms/step - accuracy: 0.8697 - loss: 0.3646 - val_accuracy: 0.8854 - val_loss: 0.3200 - learning_rate: 0.0010\n",
      "Epoch 7/40\n",
      "\u001b[1m443/443\u001b[0m \u001b[32m━━━━━━━━━━━━━━━━━━━━\u001b[0m\u001b[37m\u001b[0m \u001b[1m0s\u001b[0m 88ms/step - accuracy: 0.8745 - loss: 0.3435\n",
      "Epoch 7: val_loss improved from 0.32003 to 0.29412, saving model to best_model.keras\n",
      "\u001b[1m443/443\u001b[0m \u001b[32m━━━━━━━━━━━━━━━━━━━━\u001b[0m\u001b[37m\u001b[0m \u001b[1m40s\u001b[0m 89ms/step - accuracy: 0.8745 - loss: 0.3435 - val_accuracy: 0.8905 - val_loss: 0.2941 - learning_rate: 0.0010\n",
      "Epoch 8/40\n",
      "\u001b[1m443/443\u001b[0m \u001b[32m━━━━━━━━━━━━━━━━━━━━\u001b[0m\u001b[37m\u001b[0m \u001b[1m0s\u001b[0m 116ms/step - accuracy: 0.8847 - loss: 0.3182\n",
      "Epoch 8: val_loss improved from 0.29412 to 0.28237, saving model to best_model.keras\n",
      "\u001b[1m443/443\u001b[0m \u001b[32m━━━━━━━━━━━━━━━━━━━━\u001b[0m\u001b[37m\u001b[0m \u001b[1m53s\u001b[0m 120ms/step - accuracy: 0.8847 - loss: 0.3182 - val_accuracy: 0.8940 - val_loss: 0.2824 - learning_rate: 0.0010\n",
      "Epoch 9/40\n",
      "\u001b[1m443/443\u001b[0m \u001b[32m━━━━━━━━━━━━━━━━━━━━\u001b[0m\u001b[37m\u001b[0m \u001b[1m0s\u001b[0m 138ms/step - accuracy: 0.8844 - loss: 0.3200\n",
      "Epoch 9: val_loss did not improve from 0.28237\n",
      "\u001b[1m443/443\u001b[0m \u001b[32m━━━━━━━━━━━━━━━━━━━━\u001b[0m\u001b[37m\u001b[0m \u001b[1m64s\u001b[0m 143ms/step - accuracy: 0.8844 - loss: 0.3200 - val_accuracy: 0.8908 - val_loss: 0.2985 - learning_rate: 0.0010\n",
      "Epoch 10/40\n",
      "\u001b[1m443/443\u001b[0m \u001b[32m━━━━━━━━━━━━━━━━━━━━\u001b[0m\u001b[37m\u001b[0m \u001b[1m0s\u001b[0m 133ms/step - accuracy: 0.8936 - loss: 0.2976\n",
      "Epoch 10: val_loss improved from 0.28237 to 0.27578, saving model to best_model.keras\n",
      "\u001b[1m443/443\u001b[0m \u001b[32m━━━━━━━━━━━━━━━━━━━━\u001b[0m\u001b[37m\u001b[0m \u001b[1m61s\u001b[0m 137ms/step - accuracy: 0.8936 - loss: 0.2976 - val_accuracy: 0.8952 - val_loss: 0.2758 - learning_rate: 0.0010\n",
      "Epoch 11/40\n",
      "\u001b[1m443/443\u001b[0m \u001b[32m━━━━━━━━━━━━━━━━━━━━\u001b[0m\u001b[37m\u001b[0m \u001b[1m0s\u001b[0m 139ms/step - accuracy: 0.8939 - loss: 0.2947\n",
      "Epoch 11: val_loss improved from 0.27578 to 0.25982, saving model to best_model.keras\n",
      "\u001b[1m443/443\u001b[0m \u001b[32m━━━━━━━━━━━━━━━━━━━━\u001b[0m\u001b[37m\u001b[0m \u001b[1m64s\u001b[0m 143ms/step - accuracy: 0.8939 - loss: 0.2947 - val_accuracy: 0.9048 - val_loss: 0.2598 - learning_rate: 0.0010\n",
      "Epoch 12/40\n",
      "\u001b[1m443/443\u001b[0m \u001b[32m━━━━━━━━━━━━━━━━━━━━\u001b[0m\u001b[37m\u001b[0m \u001b[1m0s\u001b[0m 137ms/step - accuracy: 0.8983 - loss: 0.2806\n",
      "Epoch 12: val_loss improved from 0.25982 to 0.25446, saving model to best_model.keras\n",
      "\u001b[1m443/443\u001b[0m \u001b[32m━━━━━━━━━━━━━━━━━━━━\u001b[0m\u001b[37m\u001b[0m \u001b[1m63s\u001b[0m 142ms/step - accuracy: 0.8983 - loss: 0.2806 - val_accuracy: 0.9054 - val_loss: 0.2545 - learning_rate: 0.0010\n",
      "Epoch 13/40\n",
      "\u001b[1m443/443\u001b[0m \u001b[32m━━━━━━━━━━━━━━━━━━━━\u001b[0m\u001b[37m\u001b[0m \u001b[1m0s\u001b[0m 141ms/step - accuracy: 0.9013 - loss: 0.2738\n",
      "Epoch 13: val_loss improved from 0.25446 to 0.24886, saving model to best_model.keras\n",
      "\u001b[1m443/443\u001b[0m \u001b[32m━━━━━━━━━━━━━━━━━━━━\u001b[0m\u001b[37m\u001b[0m \u001b[1m65s\u001b[0m 146ms/step - accuracy: 0.9013 - loss: 0.2738 - val_accuracy: 0.9071 - val_loss: 0.2489 - learning_rate: 0.0010\n",
      "Epoch 14/40\n",
      "\u001b[1m443/443\u001b[0m \u001b[32m━━━━━━━━━━━━━━━━━━━━\u001b[0m\u001b[37m\u001b[0m \u001b[1m0s\u001b[0m 134ms/step - accuracy: 0.9047 - loss: 0.2651\n",
      "Epoch 14: val_loss improved from 0.24886 to 0.24323, saving model to best_model.keras\n",
      "\u001b[1m443/443\u001b[0m \u001b[32m━━━━━━━━━━━━━━━━━━━━\u001b[0m\u001b[37m\u001b[0m \u001b[1m62s\u001b[0m 138ms/step - accuracy: 0.9047 - loss: 0.2651 - val_accuracy: 0.9094 - val_loss: 0.2432 - learning_rate: 0.0010\n",
      "Epoch 15/40\n",
      "\u001b[1m443/443\u001b[0m \u001b[32m━━━━━━━━━━━━━━━━━━━━\u001b[0m\u001b[37m\u001b[0m \u001b[1m0s\u001b[0m 96ms/step - accuracy: 0.9046 - loss: 0.2601\n",
      "Epoch 15: val_loss improved from 0.24323 to 0.24248, saving model to best_model.keras\n",
      "\u001b[1m443/443\u001b[0m \u001b[32m━━━━━━━━━━━━━━━━━━━━\u001b[0m\u001b[37m\u001b[0m \u001b[1m45s\u001b[0m 100ms/step - accuracy: 0.9046 - loss: 0.2601 - val_accuracy: 0.9073 - val_loss: 0.2425 - learning_rate: 0.0010\n",
      "Epoch 16/40\n",
      "\u001b[1m443/443\u001b[0m \u001b[32m━━━━━━━━━━━━━━━━━━━━\u001b[0m\u001b[37m\u001b[0m \u001b[1m0s\u001b[0m 120ms/step - accuracy: 0.9083 - loss: 0.2537\n",
      "Epoch 16: val_loss improved from 0.24248 to 0.23926, saving model to best_model.keras\n",
      "\u001b[1m443/443\u001b[0m \u001b[32m━━━━━━━━━━━━━━━━━━━━\u001b[0m\u001b[37m\u001b[0m \u001b[1m55s\u001b[0m 124ms/step - accuracy: 0.9083 - loss: 0.2537 - val_accuracy: 0.9117 - val_loss: 0.2393 - learning_rate: 0.0010\n",
      "Epoch 17/40\n",
      "\u001b[1m443/443\u001b[0m \u001b[32m━━━━━━━━━━━━━━━━━━━━\u001b[0m\u001b[37m\u001b[0m \u001b[1m0s\u001b[0m 120ms/step - accuracy: 0.9085 - loss: 0.2544\n",
      "Epoch 17: val_loss did not improve from 0.23926\n",
      "\u001b[1m443/443\u001b[0m \u001b[32m━━━━━━━━━━━━━━━━━━━━\u001b[0m\u001b[37m\u001b[0m \u001b[1m55s\u001b[0m 124ms/step - accuracy: 0.9085 - loss: 0.2544 - val_accuracy: 0.9075 - val_loss: 0.2400 - learning_rate: 0.0010\n",
      "Epoch 18/40\n",
      "\u001b[1m443/443\u001b[0m \u001b[32m━━━━━━━━━━━━━━━━━━━━\u001b[0m\u001b[37m\u001b[0m \u001b[1m0s\u001b[0m 122ms/step - accuracy: 0.9129 - loss: 0.2403\n",
      "Epoch 18: val_loss improved from 0.23926 to 0.22560, saving model to best_model.keras\n",
      "\u001b[1m443/443\u001b[0m \u001b[32m━━━━━━━━━━━━━━━━━━━━\u001b[0m\u001b[37m\u001b[0m \u001b[1m56s\u001b[0m 126ms/step - accuracy: 0.9129 - loss: 0.2403 - val_accuracy: 0.9133 - val_loss: 0.2256 - learning_rate: 0.0010\n",
      "Epoch 19/40\n",
      "\u001b[1m443/443\u001b[0m \u001b[32m━━━━━━━━━━━━━━━━━━━━\u001b[0m\u001b[37m\u001b[0m \u001b[1m0s\u001b[0m 122ms/step - accuracy: 0.9149 - loss: 0.2380\n",
      "Epoch 19: val_loss did not improve from 0.22560\n",
      "\u001b[1m443/443\u001b[0m \u001b[32m━━━━━━━━━━━━━━━━━━━━\u001b[0m\u001b[37m\u001b[0m \u001b[1m56s\u001b[0m 125ms/step - accuracy: 0.9149 - loss: 0.2380 - val_accuracy: 0.8990 - val_loss: 0.2702 - learning_rate: 0.0010\n",
      "Epoch 20/40\n",
      "\u001b[1m443/443\u001b[0m \u001b[32m━━━━━━━━━━━━━━━━━━━━\u001b[0m\u001b[37m\u001b[0m \u001b[1m0s\u001b[0m 122ms/step - accuracy: 0.9159 - loss: 0.2386\n",
      "Epoch 20: val_loss improved from 0.22560 to 0.22134, saving model to best_model.keras\n",
      "\u001b[1m443/443\u001b[0m \u001b[32m━━━━━━━━━━━━━━━━━━━━\u001b[0m\u001b[37m\u001b[0m \u001b[1m56s\u001b[0m 126ms/step - accuracy: 0.9159 - loss: 0.2386 - val_accuracy: 0.9149 - val_loss: 0.2213 - learning_rate: 0.0010\n",
      "Epoch 21/40\n",
      "\u001b[1m443/443\u001b[0m \u001b[32m━━━━━━━━━━━━━━━━━━━━\u001b[0m\u001b[37m\u001b[0m \u001b[1m0s\u001b[0m 121ms/step - accuracy: 0.9153 - loss: 0.2335\n",
      "Epoch 21: val_loss improved from 0.22134 to 0.21303, saving model to best_model.keras\n",
      "\u001b[1m443/443\u001b[0m \u001b[32m━━━━━━━━━━━━━━━━━━━━\u001b[0m\u001b[37m\u001b[0m \u001b[1m55s\u001b[0m 125ms/step - accuracy: 0.9153 - loss: 0.2335 - val_accuracy: 0.9210 - val_loss: 0.2130 - learning_rate: 0.0010\n",
      "Epoch 22/40\n",
      "\u001b[1m443/443\u001b[0m \u001b[32m━━━━━━━━━━━━━━━━━━━━\u001b[0m\u001b[37m\u001b[0m \u001b[1m0s\u001b[0m 121ms/step - accuracy: 0.9202 - loss: 0.2196\n",
      "Epoch 22: val_loss did not improve from 0.21303\n",
      "\u001b[1m443/443\u001b[0m \u001b[32m━━━━━━━━━━━━━━━━━━━━\u001b[0m\u001b[37m\u001b[0m \u001b[1m55s\u001b[0m 124ms/step - accuracy: 0.9202 - loss: 0.2197 - val_accuracy: 0.9102 - val_loss: 0.2407 - learning_rate: 0.0010\n"
     ]
    },
    {
     "name": "stdout",
     "output_type": "stream",
     "text": [
      "Epoch 23/40\n",
      "\u001b[1m443/443\u001b[0m \u001b[32m━━━━━━━━━━━━━━━━━━━━\u001b[0m\u001b[37m\u001b[0m \u001b[1m0s\u001b[0m 120ms/step - accuracy: 0.9201 - loss: 0.2222\n",
      "Epoch 23: val_loss did not improve from 0.21303\n",
      "\u001b[1m443/443\u001b[0m \u001b[32m━━━━━━━━━━━━━━━━━━━━\u001b[0m\u001b[37m\u001b[0m \u001b[1m55s\u001b[0m 123ms/step - accuracy: 0.9201 - loss: 0.2222 - val_accuracy: 0.9065 - val_loss: 0.2463 - learning_rate: 0.0010\n",
      "Epoch 24/40\n",
      "\u001b[1m443/443\u001b[0m \u001b[32m━━━━━━━━━━━━━━━━━━━━\u001b[0m\u001b[37m\u001b[0m \u001b[1m0s\u001b[0m 118ms/step - accuracy: 0.9188 - loss: 0.2179\n",
      "Epoch 24: val_loss improved from 0.21303 to 0.21032, saving model to best_model.keras\n",
      "\u001b[1m443/443\u001b[0m \u001b[32m━━━━━━━━━━━━━━━━━━━━\u001b[0m\u001b[37m\u001b[0m \u001b[1m54s\u001b[0m 122ms/step - accuracy: 0.9188 - loss: 0.2179 - val_accuracy: 0.9203 - val_loss: 0.2103 - learning_rate: 0.0010\n",
      "Epoch 25/40\n",
      "\u001b[1m443/443\u001b[0m \u001b[32m━━━━━━━━━━━━━━━━━━━━\u001b[0m\u001b[37m\u001b[0m \u001b[1m0s\u001b[0m 119ms/step - accuracy: 0.9221 - loss: 0.2109\n",
      "Epoch 25: val_loss did not improve from 0.21032\n",
      "\u001b[1m443/443\u001b[0m \u001b[32m━━━━━━━━━━━━━━━━━━━━\u001b[0m\u001b[37m\u001b[0m \u001b[1m55s\u001b[0m 123ms/step - accuracy: 0.9221 - loss: 0.2109 - val_accuracy: 0.9203 - val_loss: 0.2122 - learning_rate: 0.0010\n",
      "Epoch 26/40\n",
      "\u001b[1m443/443\u001b[0m \u001b[32m━━━━━━━━━━━━━━━━━━━━\u001b[0m\u001b[37m\u001b[0m \u001b[1m0s\u001b[0m 124ms/step - accuracy: 0.9227 - loss: 0.2107\n",
      "Epoch 26: val_loss improved from 0.21032 to 0.20622, saving model to best_model.keras\n",
      "\u001b[1m443/443\u001b[0m \u001b[32m━━━━━━━━━━━━━━━━━━━━\u001b[0m\u001b[37m\u001b[0m \u001b[1m84s\u001b[0m 128ms/step - accuracy: 0.9227 - loss: 0.2107 - val_accuracy: 0.9213 - val_loss: 0.2062 - learning_rate: 0.0010\n",
      "Epoch 27/40\n",
      "\u001b[1m443/443\u001b[0m \u001b[32m━━━━━━━━━━━━━━━━━━━━\u001b[0m\u001b[37m\u001b[0m \u001b[1m0s\u001b[0m 120ms/step - accuracy: 0.9236 - loss: 0.2123\n",
      "Epoch 27: val_loss did not improve from 0.20622\n",
      "\u001b[1m443/443\u001b[0m \u001b[32m━━━━━━━━━━━━━━━━━━━━\u001b[0m\u001b[37m\u001b[0m \u001b[1m55s\u001b[0m 123ms/step - accuracy: 0.9236 - loss: 0.2123 - val_accuracy: 0.9219 - val_loss: 0.2106 - learning_rate: 0.0010\n",
      "Epoch 28/40\n",
      "\u001b[1m443/443\u001b[0m \u001b[32m━━━━━━━━━━━━━━━━━━━━\u001b[0m\u001b[37m\u001b[0m \u001b[1m0s\u001b[0m 116ms/step - accuracy: 0.9233 - loss: 0.2098\n",
      "Epoch 28: val_loss improved from 0.20622 to 0.19972, saving model to best_model.keras\n",
      "\u001b[1m443/443\u001b[0m \u001b[32m━━━━━━━━━━━━━━━━━━━━\u001b[0m\u001b[37m\u001b[0m \u001b[1m53s\u001b[0m 120ms/step - accuracy: 0.9233 - loss: 0.2098 - val_accuracy: 0.9237 - val_loss: 0.1997 - learning_rate: 0.0010\n",
      "Epoch 29/40\n",
      "\u001b[1m443/443\u001b[0m \u001b[32m━━━━━━━━━━━━━━━━━━━━\u001b[0m\u001b[37m\u001b[0m \u001b[1m0s\u001b[0m 115ms/step - accuracy: 0.9272 - loss: 0.1971\n",
      "Epoch 29: val_loss did not improve from 0.19972\n",
      "\u001b[1m443/443\u001b[0m \u001b[32m━━━━━━━━━━━━━━━━━━━━\u001b[0m\u001b[37m\u001b[0m \u001b[1m53s\u001b[0m 119ms/step - accuracy: 0.9272 - loss: 0.1971 - val_accuracy: 0.9230 - val_loss: 0.2053 - learning_rate: 0.0010\n",
      "Epoch 30/40\n",
      "\u001b[1m443/443\u001b[0m \u001b[32m━━━━━━━━━━━━━━━━━━━━\u001b[0m\u001b[37m\u001b[0m \u001b[1m0s\u001b[0m 104ms/step - accuracy: 0.9278 - loss: 0.1981\n",
      "Epoch 30: val_loss did not improve from 0.19972\n",
      "\u001b[1m443/443\u001b[0m \u001b[32m━━━━━━━━━━━━━━━━━━━━\u001b[0m\u001b[37m\u001b[0m \u001b[1m47s\u001b[0m 106ms/step - accuracy: 0.9278 - loss: 0.1981 - val_accuracy: 0.9241 - val_loss: 0.2029 - learning_rate: 0.0010\n",
      "Epoch 31/40\n",
      "\u001b[1m443/443\u001b[0m \u001b[32m━━━━━━━━━━━━━━━━━━━━\u001b[0m\u001b[37m\u001b[0m \u001b[1m0s\u001b[0m 98ms/step - accuracy: 0.9282 - loss: 0.1924\n",
      "Epoch 31: val_loss improved from 0.19972 to 0.19664, saving model to best_model.keras\n",
      "\u001b[1m443/443\u001b[0m \u001b[32m━━━━━━━━━━━━━━━━━━━━\u001b[0m\u001b[37m\u001b[0m \u001b[1m45s\u001b[0m 102ms/step - accuracy: 0.9282 - loss: 0.1924 - val_accuracy: 0.9263 - val_loss: 0.1966 - learning_rate: 0.0010\n",
      "Epoch 32/40\n",
      "\u001b[1m443/443\u001b[0m \u001b[32m━━━━━━━━━━━━━━━━━━━━\u001b[0m\u001b[37m\u001b[0m \u001b[1m0s\u001b[0m 117ms/step - accuracy: 0.9300 - loss: 0.1913\n",
      "Epoch 32: val_loss did not improve from 0.19664\n",
      "\u001b[1m443/443\u001b[0m \u001b[32m━━━━━━━━━━━━━━━━━━━━\u001b[0m\u001b[37m\u001b[0m \u001b[1m54s\u001b[0m 121ms/step - accuracy: 0.9300 - loss: 0.1914 - val_accuracy: 0.9219 - val_loss: 0.1992 - learning_rate: 0.0010\n",
      "Epoch 33/40\n",
      "\u001b[1m443/443\u001b[0m \u001b[32m━━━━━━━━━━━━━━━━━━━━\u001b[0m\u001b[37m\u001b[0m \u001b[1m0s\u001b[0m 124ms/step - accuracy: 0.9339 - loss: 0.1850\n",
      "Epoch 33: val_loss did not improve from 0.19664\n",
      "\u001b[1m443/443\u001b[0m \u001b[32m━━━━━━━━━━━━━━━━━━━━\u001b[0m\u001b[37m\u001b[0m \u001b[1m57s\u001b[0m 128ms/step - accuracy: 0.9339 - loss: 0.1850 - val_accuracy: 0.9238 - val_loss: 0.1991 - learning_rate: 0.0010\n",
      "Epoch 34/40\n",
      "\u001b[1m443/443\u001b[0m \u001b[32m━━━━━━━━━━━━━━━━━━━━\u001b[0m\u001b[37m\u001b[0m \u001b[1m0s\u001b[0m 118ms/step - accuracy: 0.9313 - loss: 0.1868\n",
      "Epoch 34: val_loss did not improve from 0.19664\n",
      "\u001b[1m443/443\u001b[0m \u001b[32m━━━━━━━━━━━━━━━━━━━━\u001b[0m\u001b[37m\u001b[0m \u001b[1m54s\u001b[0m 122ms/step - accuracy: 0.9313 - loss: 0.1868 - val_accuracy: 0.9232 - val_loss: 0.2086 - learning_rate: 0.0010\n",
      "Epoch 35/40\n",
      "\u001b[1m443/443\u001b[0m \u001b[32m━━━━━━━━━━━━━━━━━━━━\u001b[0m\u001b[37m\u001b[0m \u001b[1m0s\u001b[0m 124ms/step - accuracy: 0.9312 - loss: 0.1836\n",
      "Epoch 35: val_loss improved from 0.19664 to 0.19170, saving model to best_model.keras\n",
      "\u001b[1m443/443\u001b[0m \u001b[32m━━━━━━━━━━━━━━━━━━━━\u001b[0m\u001b[37m\u001b[0m \u001b[1m57s\u001b[0m 128ms/step - accuracy: 0.9312 - loss: 0.1836 - val_accuracy: 0.9294 - val_loss: 0.1917 - learning_rate: 0.0010\n",
      "Epoch 36/40\n",
      "\u001b[1m443/443\u001b[0m \u001b[32m━━━━━━━━━━━━━━━━━━━━\u001b[0m\u001b[37m\u001b[0m \u001b[1m0s\u001b[0m 120ms/step - accuracy: 0.9339 - loss: 0.1788\n",
      "Epoch 36: val_loss did not improve from 0.19170\n",
      "\u001b[1m443/443\u001b[0m \u001b[32m━━━━━━━━━━━━━━━━━━━━\u001b[0m\u001b[37m\u001b[0m \u001b[1m55s\u001b[0m 124ms/step - accuracy: 0.9339 - loss: 0.1788 - val_accuracy: 0.9263 - val_loss: 0.1928 - learning_rate: 0.0010\n",
      "Epoch 37/40\n",
      "\u001b[1m443/443\u001b[0m \u001b[32m━━━━━━━━━━━━━━━━━━━━\u001b[0m\u001b[37m\u001b[0m \u001b[1m0s\u001b[0m 119ms/step - accuracy: 0.9337 - loss: 0.1812\n",
      "Epoch 37: val_loss did not improve from 0.19170\n",
      "\u001b[1m443/443\u001b[0m \u001b[32m━━━━━━━━━━━━━━━━━━━━\u001b[0m\u001b[37m\u001b[0m \u001b[1m55s\u001b[0m 122ms/step - accuracy: 0.9337 - loss: 0.1812 - val_accuracy: 0.9211 - val_loss: 0.2147 - learning_rate: 0.0010\n",
      "Epoch 38/40\n",
      "\u001b[1m443/443\u001b[0m \u001b[32m━━━━━━━━━━━━━━━━━━━━\u001b[0m\u001b[37m\u001b[0m \u001b[1m0s\u001b[0m 119ms/step - accuracy: 0.9355 - loss: 0.1786\n",
      "Epoch 38: val_loss did not improve from 0.19170\n",
      "\u001b[1m443/443\u001b[0m \u001b[32m━━━━━━━━━━━━━━━━━━━━\u001b[0m\u001b[37m\u001b[0m \u001b[1m54s\u001b[0m 122ms/step - accuracy: 0.9355 - loss: 0.1786 - val_accuracy: 0.9260 - val_loss: 0.1978 - learning_rate: 0.0010\n",
      "Epoch 39/40\n",
      "\u001b[1m443/443\u001b[0m \u001b[32m━━━━━━━━━━━━━━━━━━━━\u001b[0m\u001b[37m\u001b[0m \u001b[1m0s\u001b[0m 119ms/step - accuracy: 0.9367 - loss: 0.1727\n",
      "Epoch 39: ReduceLROnPlateau reducing learning rate to 0.00020000000949949026.\n",
      "\n",
      "Epoch 39: val_loss did not improve from 0.19170\n",
      "\u001b[1m443/443\u001b[0m \u001b[32m━━━━━━━━━━━━━━━━━━━━\u001b[0m\u001b[37m\u001b[0m \u001b[1m55s\u001b[0m 122ms/step - accuracy: 0.9367 - loss: 0.1727 - val_accuracy: 0.9270 - val_loss: 0.1982 - learning_rate: 0.0010\n",
      "Epoch 40/40\n",
      "\u001b[1m443/443\u001b[0m \u001b[32m━━━━━━━━━━━━━━━━━━━━\u001b[0m\u001b[37m\u001b[0m \u001b[1m0s\u001b[0m 117ms/step - accuracy: 0.9407 - loss: 0.1543\n",
      "Epoch 40: val_loss improved from 0.19170 to 0.18050, saving model to best_model.keras\n",
      "\u001b[1m443/443\u001b[0m \u001b[32m━━━━━━━━━━━━━━━━━━━━\u001b[0m\u001b[37m\u001b[0m \u001b[1m54s\u001b[0m 121ms/step - accuracy: 0.9407 - loss: 0.1543 - val_accuracy: 0.9332 - val_loss: 0.1805 - learning_rate: 2.0000e-04\n",
      "Restoring model weights from the end of the best epoch: 40.\n"
     ]
    }
   ],
   "source": [
    "history = f_mnist_model.fit(\n",
    "    train_ds,\n",
    "    validation_data= val_ds,\n",
    "    epochs=40,\n",
    "    callbacks=[reduce_lr, early_stop, ckpt],\n",
    "    verbose=1)"
   ]
  },
  {
   "cell_type": "markdown",
   "id": "44d11778",
   "metadata": {},
   "source": [
    "**Weryfikacja metryk na zbiorze testowym:**  "
   ]
  },
  {
   "cell_type": "code",
   "execution_count": 7,
   "id": "55d8f870",
   "metadata": {},
   "outputs": [
    {
     "name": "stdout",
     "output_type": "stream",
     "text": [
      "\u001b[1m55/55\u001b[0m \u001b[32m━━━━━━━━━━━━━━━━━━━━\u001b[0m\u001b[37m\u001b[0m \u001b[1m2s\u001b[0m 34ms/step - accuracy: 0.9357 - loss: 0.1673\n",
      "Test loss: 0.1661 | Test acc: 0.9391\n"
     ]
    }
   ],
   "source": [
    "test_loss, test_acc = f_mnist_model.evaluate(test_ds, verbose=1)\n",
    "print(f\"Test loss: {test_loss:.4f} | Test acc: {test_acc:.4f}\")"
   ]
  },
  {
   "cell_type": "markdown",
   "id": "42c9fb92",
   "metadata": {},
   "source": [
    "**Podsumowanie modelu CNN:**"
   ]
  },
  {
   "cell_type": "code",
   "execution_count": 8,
   "id": "31aac694",
   "metadata": {},
   "outputs": [
    {
     "data": {
      "text/html": [
       "<pre style=\"white-space:pre;overflow-x:auto;line-height:normal;font-family:Menlo,'DejaVu Sans Mono',consolas,'Courier New',monospace\"><span style=\"font-weight: bold\">Model: \"sequential\"</span>\n",
       "</pre>\n"
      ],
      "text/plain": [
       "\u001b[1mModel: \"sequential\"\u001b[0m\n"
      ]
     },
     "metadata": {},
     "output_type": "display_data"
    },
    {
     "data": {
      "text/html": [
       "<pre style=\"white-space:pre;overflow-x:auto;line-height:normal;font-family:Menlo,'DejaVu Sans Mono',consolas,'Courier New',monospace\">┏━━━━━━━━━━━━━━━━━━━━━━━━━━━━━━━━━━━━━━┳━━━━━━━━━━━━━━━━━━━━━━━━━━━━━┳━━━━━━━━━━━━━━━━━┓\n",
       "┃<span style=\"font-weight: bold\"> Layer (type)                         </span>┃<span style=\"font-weight: bold\"> Output Shape                </span>┃<span style=\"font-weight: bold\">         Param # </span>┃\n",
       "┡━━━━━━━━━━━━━━━━━━━━━━━━━━━━━━━━━━━━━━╇━━━━━━━━━━━━━━━━━━━━━━━━━━━━━╇━━━━━━━━━━━━━━━━━┩\n",
       "│ conv2d (<span style=\"color: #0087ff; text-decoration-color: #0087ff\">Conv2D</span>)                      │ (<span style=\"color: #00d7ff; text-decoration-color: #00d7ff\">None</span>, <span style=\"color: #00af00; text-decoration-color: #00af00\">28</span>, <span style=\"color: #00af00; text-decoration-color: #00af00\">28</span>, <span style=\"color: #00af00; text-decoration-color: #00af00\">32</span>)          │             <span style=\"color: #00af00; text-decoration-color: #00af00\">320</span> │\n",
       "├──────────────────────────────────────┼─────────────────────────────┼─────────────────┤\n",
       "│ batch_normalization                  │ (<span style=\"color: #00d7ff; text-decoration-color: #00d7ff\">None</span>, <span style=\"color: #00af00; text-decoration-color: #00af00\">28</span>, <span style=\"color: #00af00; text-decoration-color: #00af00\">28</span>, <span style=\"color: #00af00; text-decoration-color: #00af00\">32</span>)          │             <span style=\"color: #00af00; text-decoration-color: #00af00\">128</span> │\n",
       "│ (<span style=\"color: #0087ff; text-decoration-color: #0087ff\">BatchNormalization</span>)                 │                             │                 │\n",
       "├──────────────────────────────────────┼─────────────────────────────┼─────────────────┤\n",
       "│ conv2d_1 (<span style=\"color: #0087ff; text-decoration-color: #0087ff\">Conv2D</span>)                    │ (<span style=\"color: #00d7ff; text-decoration-color: #00d7ff\">None</span>, <span style=\"color: #00af00; text-decoration-color: #00af00\">28</span>, <span style=\"color: #00af00; text-decoration-color: #00af00\">28</span>, <span style=\"color: #00af00; text-decoration-color: #00af00\">64</span>)          │          <span style=\"color: #00af00; text-decoration-color: #00af00\">18,496</span> │\n",
       "├──────────────────────────────────────┼─────────────────────────────┼─────────────────┤\n",
       "│ max_pooling2d (<span style=\"color: #0087ff; text-decoration-color: #0087ff\">MaxPooling2D</span>)         │ (<span style=\"color: #00d7ff; text-decoration-color: #00d7ff\">None</span>, <span style=\"color: #00af00; text-decoration-color: #00af00\">14</span>, <span style=\"color: #00af00; text-decoration-color: #00af00\">14</span>, <span style=\"color: #00af00; text-decoration-color: #00af00\">64</span>)          │               <span style=\"color: #00af00; text-decoration-color: #00af00\">0</span> │\n",
       "├──────────────────────────────────────┼─────────────────────────────┼─────────────────┤\n",
       "│ dropout (<span style=\"color: #0087ff; text-decoration-color: #0087ff\">Dropout</span>)                    │ (<span style=\"color: #00d7ff; text-decoration-color: #00d7ff\">None</span>, <span style=\"color: #00af00; text-decoration-color: #00af00\">14</span>, <span style=\"color: #00af00; text-decoration-color: #00af00\">14</span>, <span style=\"color: #00af00; text-decoration-color: #00af00\">64</span>)          │               <span style=\"color: #00af00; text-decoration-color: #00af00\">0</span> │\n",
       "├──────────────────────────────────────┼─────────────────────────────┼─────────────────┤\n",
       "│ conv2d_2 (<span style=\"color: #0087ff; text-decoration-color: #0087ff\">Conv2D</span>)                    │ (<span style=\"color: #00d7ff; text-decoration-color: #00d7ff\">None</span>, <span style=\"color: #00af00; text-decoration-color: #00af00\">14</span>, <span style=\"color: #00af00; text-decoration-color: #00af00\">14</span>, <span style=\"color: #00af00; text-decoration-color: #00af00\">128</span>)         │          <span style=\"color: #00af00; text-decoration-color: #00af00\">73,856</span> │\n",
       "├──────────────────────────────────────┼─────────────────────────────┼─────────────────┤\n",
       "│ global_average_pooling2d             │ (<span style=\"color: #00d7ff; text-decoration-color: #00d7ff\">None</span>, <span style=\"color: #00af00; text-decoration-color: #00af00\">128</span>)                 │               <span style=\"color: #00af00; text-decoration-color: #00af00\">0</span> │\n",
       "│ (<span style=\"color: #0087ff; text-decoration-color: #0087ff\">GlobalAveragePooling2D</span>)             │                             │                 │\n",
       "├──────────────────────────────────────┼─────────────────────────────┼─────────────────┤\n",
       "│ dense (<span style=\"color: #0087ff; text-decoration-color: #0087ff\">Dense</span>)                        │ (<span style=\"color: #00d7ff; text-decoration-color: #00d7ff\">None</span>, <span style=\"color: #00af00; text-decoration-color: #00af00\">256</span>)                 │          <span style=\"color: #00af00; text-decoration-color: #00af00\">33,024</span> │\n",
       "├──────────────────────────────────────┼─────────────────────────────┼─────────────────┤\n",
       "│ dropout_1 (<span style=\"color: #0087ff; text-decoration-color: #0087ff\">Dropout</span>)                  │ (<span style=\"color: #00d7ff; text-decoration-color: #00d7ff\">None</span>, <span style=\"color: #00af00; text-decoration-color: #00af00\">256</span>)                 │               <span style=\"color: #00af00; text-decoration-color: #00af00\">0</span> │\n",
       "├──────────────────────────────────────┼─────────────────────────────┼─────────────────┤\n",
       "│ dense_1 (<span style=\"color: #0087ff; text-decoration-color: #0087ff\">Dense</span>)                      │ (<span style=\"color: #00d7ff; text-decoration-color: #00d7ff\">None</span>, <span style=\"color: #00af00; text-decoration-color: #00af00\">10</span>)                  │           <span style=\"color: #00af00; text-decoration-color: #00af00\">2,570</span> │\n",
       "└──────────────────────────────────────┴─────────────────────────────┴─────────────────┘\n",
       "</pre>\n"
      ],
      "text/plain": [
       "┏━━━━━━━━━━━━━━━━━━━━━━━━━━━━━━━━━━━━━━┳━━━━━━━━━━━━━━━━━━━━━━━━━━━━━┳━━━━━━━━━━━━━━━━━┓\n",
       "┃\u001b[1m \u001b[0m\u001b[1mLayer (type)                        \u001b[0m\u001b[1m \u001b[0m┃\u001b[1m \u001b[0m\u001b[1mOutput Shape               \u001b[0m\u001b[1m \u001b[0m┃\u001b[1m \u001b[0m\u001b[1m        Param #\u001b[0m\u001b[1m \u001b[0m┃\n",
       "┡━━━━━━━━━━━━━━━━━━━━━━━━━━━━━━━━━━━━━━╇━━━━━━━━━━━━━━━━━━━━━━━━━━━━━╇━━━━━━━━━━━━━━━━━┩\n",
       "│ conv2d (\u001b[38;5;33mConv2D\u001b[0m)                      │ (\u001b[38;5;45mNone\u001b[0m, \u001b[38;5;34m28\u001b[0m, \u001b[38;5;34m28\u001b[0m, \u001b[38;5;34m32\u001b[0m)          │             \u001b[38;5;34m320\u001b[0m │\n",
       "├──────────────────────────────────────┼─────────────────────────────┼─────────────────┤\n",
       "│ batch_normalization                  │ (\u001b[38;5;45mNone\u001b[0m, \u001b[38;5;34m28\u001b[0m, \u001b[38;5;34m28\u001b[0m, \u001b[38;5;34m32\u001b[0m)          │             \u001b[38;5;34m128\u001b[0m │\n",
       "│ (\u001b[38;5;33mBatchNormalization\u001b[0m)                 │                             │                 │\n",
       "├──────────────────────────────────────┼─────────────────────────────┼─────────────────┤\n",
       "│ conv2d_1 (\u001b[38;5;33mConv2D\u001b[0m)                    │ (\u001b[38;5;45mNone\u001b[0m, \u001b[38;5;34m28\u001b[0m, \u001b[38;5;34m28\u001b[0m, \u001b[38;5;34m64\u001b[0m)          │          \u001b[38;5;34m18,496\u001b[0m │\n",
       "├──────────────────────────────────────┼─────────────────────────────┼─────────────────┤\n",
       "│ max_pooling2d (\u001b[38;5;33mMaxPooling2D\u001b[0m)         │ (\u001b[38;5;45mNone\u001b[0m, \u001b[38;5;34m14\u001b[0m, \u001b[38;5;34m14\u001b[0m, \u001b[38;5;34m64\u001b[0m)          │               \u001b[38;5;34m0\u001b[0m │\n",
       "├──────────────────────────────────────┼─────────────────────────────┼─────────────────┤\n",
       "│ dropout (\u001b[38;5;33mDropout\u001b[0m)                    │ (\u001b[38;5;45mNone\u001b[0m, \u001b[38;5;34m14\u001b[0m, \u001b[38;5;34m14\u001b[0m, \u001b[38;5;34m64\u001b[0m)          │               \u001b[38;5;34m0\u001b[0m │\n",
       "├──────────────────────────────────────┼─────────────────────────────┼─────────────────┤\n",
       "│ conv2d_2 (\u001b[38;5;33mConv2D\u001b[0m)                    │ (\u001b[38;5;45mNone\u001b[0m, \u001b[38;5;34m14\u001b[0m, \u001b[38;5;34m14\u001b[0m, \u001b[38;5;34m128\u001b[0m)         │          \u001b[38;5;34m73,856\u001b[0m │\n",
       "├──────────────────────────────────────┼─────────────────────────────┼─────────────────┤\n",
       "│ global_average_pooling2d             │ (\u001b[38;5;45mNone\u001b[0m, \u001b[38;5;34m128\u001b[0m)                 │               \u001b[38;5;34m0\u001b[0m │\n",
       "│ (\u001b[38;5;33mGlobalAveragePooling2D\u001b[0m)             │                             │                 │\n",
       "├──────────────────────────────────────┼─────────────────────────────┼─────────────────┤\n",
       "│ dense (\u001b[38;5;33mDense\u001b[0m)                        │ (\u001b[38;5;45mNone\u001b[0m, \u001b[38;5;34m256\u001b[0m)                 │          \u001b[38;5;34m33,024\u001b[0m │\n",
       "├──────────────────────────────────────┼─────────────────────────────┼─────────────────┤\n",
       "│ dropout_1 (\u001b[38;5;33mDropout\u001b[0m)                  │ (\u001b[38;5;45mNone\u001b[0m, \u001b[38;5;34m256\u001b[0m)                 │               \u001b[38;5;34m0\u001b[0m │\n",
       "├──────────────────────────────────────┼─────────────────────────────┼─────────────────┤\n",
       "│ dense_1 (\u001b[38;5;33mDense\u001b[0m)                      │ (\u001b[38;5;45mNone\u001b[0m, \u001b[38;5;34m10\u001b[0m)                  │           \u001b[38;5;34m2,570\u001b[0m │\n",
       "└──────────────────────────────────────┴─────────────────────────────┴─────────────────┘\n"
      ]
     },
     "metadata": {},
     "output_type": "display_data"
    },
    {
     "data": {
      "text/html": [
       "<pre style=\"white-space:pre;overflow-x:auto;line-height:normal;font-family:Menlo,'DejaVu Sans Mono',consolas,'Courier New',monospace\"><span style=\"font-weight: bold\"> Total params: </span><span style=\"color: #00af00; text-decoration-color: #00af00\">385,056</span> (1.47 MB)\n",
       "</pre>\n"
      ],
      "text/plain": [
       "\u001b[1m Total params: \u001b[0m\u001b[38;5;34m385,056\u001b[0m (1.47 MB)\n"
      ]
     },
     "metadata": {},
     "output_type": "display_data"
    },
    {
     "data": {
      "text/html": [
       "<pre style=\"white-space:pre;overflow-x:auto;line-height:normal;font-family:Menlo,'DejaVu Sans Mono',consolas,'Courier New',monospace\"><span style=\"font-weight: bold\"> Trainable params: </span><span style=\"color: #00af00; text-decoration-color: #00af00\">128,330</span> (501.29 KB)\n",
       "</pre>\n"
      ],
      "text/plain": [
       "\u001b[1m Trainable params: \u001b[0m\u001b[38;5;34m128,330\u001b[0m (501.29 KB)\n"
      ]
     },
     "metadata": {},
     "output_type": "display_data"
    },
    {
     "data": {
      "text/html": [
       "<pre style=\"white-space:pre;overflow-x:auto;line-height:normal;font-family:Menlo,'DejaVu Sans Mono',consolas,'Courier New',monospace\"><span style=\"font-weight: bold\"> Non-trainable params: </span><span style=\"color: #00af00; text-decoration-color: #00af00\">64</span> (256.00 B)\n",
       "</pre>\n"
      ],
      "text/plain": [
       "\u001b[1m Non-trainable params: \u001b[0m\u001b[38;5;34m64\u001b[0m (256.00 B)\n"
      ]
     },
     "metadata": {},
     "output_type": "display_data"
    },
    {
     "data": {
      "text/html": [
       "<pre style=\"white-space:pre;overflow-x:auto;line-height:normal;font-family:Menlo,'DejaVu Sans Mono',consolas,'Courier New',monospace\"><span style=\"font-weight: bold\"> Optimizer params: </span><span style=\"color: #00af00; text-decoration-color: #00af00\">256,662</span> (1002.59 KB)\n",
       "</pre>\n"
      ],
      "text/plain": [
       "\u001b[1m Optimizer params: \u001b[0m\u001b[38;5;34m256,662\u001b[0m (1002.59 KB)\n"
      ]
     },
     "metadata": {},
     "output_type": "display_data"
    }
   ],
   "source": [
    "f_mnist_model.summary()"
   ]
  },
  {
   "cell_type": "markdown",
   "id": "d73748d8",
   "metadata": {},
   "source": [
    "**Sprawdź czy istniee folder:\"export\", jeśli nie to to stwórz:**"
   ]
  },
  {
   "cell_type": "code",
   "execution_count": 9,
   "id": "2c9c2f14",
   "metadata": {},
   "outputs": [],
   "source": [
    "os.makedirs(\"export\", exist_ok=True)\n",
    "f_mnist_model.save(\"export/fashion_cnn_savedmodel.keras\")"
   ]
  },
  {
   "cell_type": "markdown",
   "id": "3ac9c8c5",
   "metadata": {},
   "source": [
    "**Export modelu do folderu:**"
   ]
  },
  {
   "cell_type": "code",
   "execution_count": 10,
   "id": "c3c5e328",
   "metadata": {},
   "outputs": [],
   "source": [
    "f_mnist_model.save(\"export/fashion_cnn_savedmodel.keras\")"
   ]
  },
  {
   "cell_type": "markdown",
   "id": "634e3476",
   "metadata": {},
   "source": [
    "**Import modelu:**"
   ]
  },
  {
   "cell_type": "code",
   "execution_count": 11,
   "id": "53478861",
   "metadata": {},
   "outputs": [],
   "source": [
    "model_imported = tf.keras.models.load_model(\"export/fashion_cnn_savedmodel.keras\")"
   ]
  },
  {
   "cell_type": "markdown",
   "id": "001fd2dd",
   "metadata": {},
   "source": [
    "**Tworzenie funkcji/interfejsu która przedstawi nam wskazany obraz, etykietę oraz predykcję modelu:**"
   ]
  },
  {
   "cell_type": "code",
   "execution_count": 12,
   "id": "ea7ed263",
   "metadata": {},
   "outputs": [],
   "source": [
    "def show_prediction(model, X_test, y_test, idx):\n",
    "    \n",
    "    product_names = [\n",
    "        \"T-shirt/top\",\"Trouser\",\"Pullover\",\"Dress\",\"Coat\",\n",
    "        \"Sandal\",\"Shirt\",\"Sneaker\",\"Bag\",\"Ankle boot\"]\n",
    "    \n",
    "   \n",
    "    x = np.expand_dims(np.expand_dims(X_test[idx].astype(\"float32\") / 255.0, -1), 0)\n",
    "\n",
    "    probs = model.predict(x, verbose=0)\n",
    "    y_pred = np.argmax(probs, axis=1)[0]\n",
    "    conf = probs[0, y_pred]\n",
    "\n",
    "    true_name = product_names[int(y_test[idx])]\n",
    "    pred_name = product_names[y_pred]\n",
    "\n",
    "    plt.imshow(X_test[idx], cmap=\"gray\")\n",
    "    plt.title(f\"Etykieta: {true_name}\\nPredykcja: {pred_name} ({conf:.2f})\")\n",
    "    plt.axis(\"off\")\n",
    "    plt.show()"
   ]
  },
  {
   "cell_type": "markdown",
   "id": "00b152c3",
   "metadata": {},
   "source": [
    "**Wpisz wartość dla \"nr_foto\" aby poniżej ruchamiając funkcję wyświetlić obrazek, etykietę oraz predykcję:**"
   ]
  },
  {
   "cell_type": "code",
   "execution_count": 13,
   "id": "07ef5557",
   "metadata": {},
   "outputs": [],
   "source": [
    "nr_foto = 113"
   ]
  },
  {
   "cell_type": "code",
   "execution_count": 14,
   "id": "0e7ad381",
   "metadata": {},
   "outputs": [
    {
     "data": {
      "image/png": "[encoded data removed]",
      "text/plain": [
       "<Figure size 640x480 with 1 Axes>"
      ]
     },
     "metadata": {},
     "output_type": "display_data"
    }
   ],
   "source": [
    "show_prediction(model_imported,X_test, y_test,nr_foto)"
   ]
  }
 ],
 "metadata": {
  "kernelspec": {
   "display_name": "Python 3 (ipykernel)",
   "language": "python",
   "name": "python3"
  },
  "language_info": {
   "codemirror_mode": {
    "name": "ipython",
    "version": 3
   },
   "file_extension": ".py",
   "mimetype": "text/x-python",
   "name": "python",
   "nbconvert_exporter": "python",
   "pygments_lexer": "ipython3",
   "version": "3.9.13"
  }
 },
 "nbformat": 4,
 "nbformat_minor": 5
}
